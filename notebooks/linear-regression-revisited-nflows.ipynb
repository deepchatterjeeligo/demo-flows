{
 "cells": [
  {
   "cell_type": "code",
   "execution_count": 1,
   "metadata": {},
   "outputs": [],
   "source": [
    "import numpy as np\n",
    "from scipy.special import gamma\n",
    "\n",
    "import matplotlib.pyplot as plt"
   ]
  },
  {
   "cell_type": "code",
   "execution_count": 2,
   "metadata": {},
   "outputs": [],
   "source": [
    "def linear_model(x, m, c):\n",
    "    return m*x + c"
   ]
  },
  {
   "cell_type": "markdown",
   "metadata": {},
   "source": [
    "### Generate data with Gaussian noise\n",
    "\n",
    "\\begin{align}\n",
    "y = f(x) + n\n",
    "\\end{align}\n",
    "\n",
    "Fetch some $\\{y_i, x_i\\}$. $n$ is a Gaussian."
   ]
  },
  {
   "cell_type": "code",
   "execution_count": 3,
   "metadata": {},
   "outputs": [],
   "source": [
    "injection_parameters = dict(m=0.8, c=2)"
   ]
  },
  {
   "cell_type": "code",
   "execution_count": 4,
   "metadata": {},
   "outputs": [],
   "source": [
    "num_points = 100\n",
    "x = np.linspace(-4, 4, num_points)"
   ]
  },
  {
   "cell_type": "code",
   "execution_count": 5,
   "metadata": {},
   "outputs": [],
   "source": [
    "sigma = 0.6"
   ]
  },
  {
   "cell_type": "code",
   "execution_count": 6,
   "metadata": {},
   "outputs": [],
   "source": [
    "# data = students_t_pdf(x, **injection_parameters) + np.random.normal(0, sigma, len(x))\n",
    "data = linear_model(x, **injection_parameters) + np.random.normal(0, sigma, x.size)"
   ]
  },
  {
   "cell_type": "code",
   "execution_count": 7,
   "metadata": {},
   "outputs": [
    {
     "data": {
      "text/plain": [
       "Text(0, 0.5, 'y')"
      ]
     },
     "execution_count": 7,
     "metadata": {},
     "output_type": "execute_result"
    },
    {
     "data": {
      "image/png": "[encoded data removed]",
      "text/plain": [
       "<Figure size 640x480 with 1 Axes>"
      ]
     },
     "metadata": {},
     "output_type": "display_data"
    }
   ],
   "source": [
    "fig, ax = plt.subplots()\n",
    "ax.plot(x, data, 'o', label='$\\\\{x_i, y_i\\\\}$')\n",
    "# ax.plot(x, students_t_pdf(x, **injection_parameters), '--r', label='f(x)')\n",
    "ax.plot(x, linear_model(x, **injection_parameters), '--r', label='f(x)')\n",
    "ax.legend()\n",
    "ax.set_xlabel('x')\n",
    "ax.set_ylabel('y')"
   ]
  },
  {
   "cell_type": "code",
   "execution_count": 8,
   "metadata": {},
   "outputs": [],
   "source": [
    "import bilby\n",
    "from bilby.core.likelihood import GaussianLikelihood\n",
    "from bilby.core.prior import Uniform, DeltaFunction"
   ]
  },
  {
   "cell_type": "code",
   "execution_count": 9,
   "metadata": {},
   "outputs": [],
   "source": [
    "priors = dict()\n",
    "# priors['mu'] = Uniform(-3, 3, name='mu', latex_label='m')\n",
    "# priors['nu'] = DeltaFunction(injection_parameters['nu'], name='nu', latex_label='n')\n",
    "# priors['sig'] = Uniform(0, 3, name='sig', latex_label='s')\n",
    "\n",
    "# priors['m'] = DeltaFunction(injection_parameters['m'], name='m', latex_label='m')\n",
    "priors['m'] = Uniform(-3, 3, name='m', latex_label='m')\n",
    "priors['c'] = Uniform(-3, 3, name='c', latex_label='c')\n",
    "\n",
    "# priors['sigma'] = Uniform(0, 1, name='sigma', latex_label='$\\\\sigma$')"
   ]
  },
  {
   "cell_type": "code",
   "execution_count": 10,
   "metadata": {},
   "outputs": [],
   "source": [
    "# log_l = GaussianLikelihood(x, data, students_t_pdf, sigma=None)\n",
    "log_l = GaussianLikelihood(x, data, linear_model, sigma=sigma)"
   ]
  },
  {
   "cell_type": "code",
   "execution_count": 11,
   "metadata": {},
   "outputs": [
    {
     "name": "stderr",
     "output_type": "stream",
     "text": [
      "12:29 bilby INFO    : Running for label 'linear_regression', output will be saved to './linear_regression'\n",
      "12:29 bilby INFO    : Analysis priors:\n",
      "12:29 bilby INFO    : m=Uniform(minimum=-3, maximum=3, name='m', latex_label='m', unit=None, boundary=None)\n",
      "12:29 bilby INFO    : c=Uniform(minimum=-3, maximum=3, name='c', latex_label='c', unit=None, boundary=None)\n",
      "12:29 bilby INFO    : Analysis likelihood class: <class 'bilby.core.likelihood.GaussianLikelihood'>\n",
      "12:29 bilby INFO    : Analysis likelihood noise evidence: nan\n",
      "12:29 bilby INFO    : Single likelihood evaluation took 2.533e-05 s\n"
     ]
    },
    {
     "data": {
      "application/vnd.jupyter.widget-view+json": {
       "model_id": "7c7101eeb0284382a685a2d2d5844472",
       "version_major": 2,
       "version_minor": 0
      },
      "text/plain": [
       "0it [00:00, ?it/s]"
      ]
     },
     "metadata": {},
     "output_type": "display_data"
    },
    {
     "name": "stderr",
     "output_type": "stream",
     "text": [
      "12:29 bilby INFO    : Using sampler Dynesty with kwargs {'bound': 'multi', 'sample': 'rwalk', 'print_progress': True, 'periodic': None, 'reflective': None, 'check_point_delta_t': 1800, 'nlive': 300, 'first_update': None, 'walks': 100, 'npdim': None, 'rstate': None, 'queue_size': 4, 'pool': None, 'use_pool': None, 'live_points': None, 'logl_args': None, 'logl_kwargs': None, 'ptform_args': None, 'ptform_kwargs': None, 'enlarge': 1.5, 'bootstrap': None, 'vol_dec': 0.5, 'vol_check': 8.0, 'facc': 0.2, 'slices': 5, 'update_interval': 180, 'print_func': <bound method Dynesty._print_func of <bilby.core.sampler.dynesty.Dynesty object at 0x7fed24ec1550>>, 'dlogz': 0.1, 'maxiter': None, 'maxcall': None, 'logl_max': inf, 'add_live': True, 'save_bounds': False, 'n_effective': None, 'maxmcmc': 5000, 'nact': 5, 'print_method': 'tqdm'}\n",
      "12:29 bilby INFO    : Checkpoint every check_point_delta_t = 600s\n",
      "12:29 bilby INFO    : Using dynesty version 1.0.1\n",
      "12:29 bilby INFO    : Using the bilby-implemented rwalk sample method with ACT estimated walks\n",
      "12:29 bilby INFO    : Setting up multiproccesing pool with 4 processes\n",
      "12:29 bilby INFO    : Generating initial points from the prior\n",
      "12:29 bilby INFO    : Written checkpoint file ./linear_regression/linear_regression_resume.pickle\n",
      "/home/deep/miniconda3/envs/a3d3-pe/lib/python3.9/site-packages/dynesty/utils.py:171: DeprecationWarning: `np.int` is a deprecated alias for the builtin `int`. To silence this warning, use `int` by itself. Doing this will not modify any behavior and is safe. When replacing `np.int`, you may wish to use e.g. `np.int64` or `np.int32` to specify the precision. If you wish to review your current use, check the release note link for additional information.\n",
      "Deprecated in NumPy 1.20; for more details and guidance: https://numpy.org/devdocs/release/1.20.0-notes.html#deprecations\n",
      "  idx = np.zeros(nsamples, dtype=np.int)\n",
      "/home/deep/miniconda3/envs/a3d3-pe/lib/python3.9/site-packages/dynesty/utils.py:171: DeprecationWarning: `np.int` is a deprecated alias for the builtin `int`. To silence this warning, use `int` by itself. Doing this will not modify any behavior and is safe. When replacing `np.int`, you may wish to use e.g. `np.int64` or `np.int32` to specify the precision. If you wish to review your current use, check the release note link for additional information.\n",
      "Deprecated in NumPy 1.20; for more details and guidance: https://numpy.org/devdocs/release/1.20.0-notes.html#deprecations\n",
      "  idx = np.zeros(nsamples, dtype=np.int)\n",
      "/home/deep/miniconda3/envs/a3d3-pe/lib/python3.9/site-packages/dynesty/utils.py:171: DeprecationWarning: `np.int` is a deprecated alias for the builtin `int`. To silence this warning, use `int` by itself. Doing this will not modify any behavior and is safe. When replacing `np.int`, you may wish to use e.g. `np.int64` or `np.int32` to specify the precision. If you wish to review your current use, check the release note link for additional information.\n",
      "Deprecated in NumPy 1.20; for more details and guidance: https://numpy.org/devdocs/release/1.20.0-notes.html#deprecations\n",
      "  idx = np.zeros(nsamples, dtype=np.int)\n",
      "12:29 bilby INFO    : Starting to close worker pool.\n",
      "12:29 bilby INFO    : Finished closing worker pool.\n",
      "/home/deep/miniconda3/envs/a3d3-pe/lib/python3.9/site-packages/dynesty/utils.py:171: DeprecationWarning: `np.int` is a deprecated alias for the builtin `int`. To silence this warning, use `int` by itself. Doing this will not modify any behavior and is safe. When replacing `np.int`, you may wish to use e.g. `np.int64` or `np.int32` to specify the precision. If you wish to review your current use, check the release note link for additional information.\n",
      "Deprecated in NumPy 1.20; for more details and guidance: https://numpy.org/devdocs/release/1.20.0-notes.html#deprecations\n",
      "  idx = np.zeros(nsamples, dtype=np.int)\n",
      "12:29 bilby WARNING : Multiple likelihood matches found between sorted and unsorted samples. Taking the first match.\n",
      "12:29 bilby WARNING : Multiple likelihood matches found between sorted and unsorted samples. Taking the first match.\n",
      "12:29 bilby INFO    : Sampling time: 0:00:25.759116\n",
      "12:29 bilby INFO    : Summary of results:\n",
      "nsamples: 3437\n",
      "ln_noise_evidence:    nan\n",
      "ln_evidence: -94.273 +/-  0.217\n",
      "ln_bayes_factor:    nan +/-  0.217\n",
      "\n"
     ]
    },
    {
     "name": "stdout",
     "output_type": "stream",
     "text": [
      "\n"
     ]
    }
   ],
   "source": [
    "result = bilby.run_sampler(\n",
    "    likelihood=log_l, priors=priors, sampler='dynesty',\n",
    "    nlive=300, npool=4, save=False, clean=True,\n",
    "    injection_parameters=injection_parameters,\n",
    "    outdir='./linear_regression',\n",
    "    label='linear_regression'\n",
    ")\n",
    "\n",
    "# result = bilby.run_sampler(\n",
    "#     likelihood=log_l, priors=priors, sampler='emcee',\n",
    "#     nsamples=5000, save=False, clean=True,\n",
    "#     injection_parameters=injection_parameters,\n",
    "#     outdir='./student_t',\n",
    "#     label='student_t'\n",
    "# )"
   ]
  },
  {
   "cell_type": "code",
   "execution_count": 12,
   "metadata": {
    "scrolled": false
   },
   "outputs": [
    {
     "name": "stderr",
     "output_type": "stream",
     "text": [
      "<frozen importlib._bootstrap>:228: RuntimeWarning: numpy.ndarray size changed, may indicate binary incompatibility. Expected 16 from C header, got 96 from PyObject\n"
     ]
    },
    {
     "data": {
      "image/png": "[encoded data removed]",
      "text/plain": [
       "<Figure size 550x550 with 4 Axes>"
      ]
     },
     "execution_count": 12,
     "metadata": {},
     "output_type": "execute_result"
    }
   ],
   "source": [
    "result.plot_corner(priors=True, quantiles=(0.16, 0.84))"
   ]
  },
  {
   "cell_type": "code",
   "execution_count": 13,
   "metadata": {},
   "outputs": [
    {
     "data": {
      "text/plain": [
       "0.025722240636584064"
      ]
     },
     "execution_count": 13,
     "metadata": {},
     "output_type": "execute_result"
    }
   ],
   "source": [
    "sigma/np.sqrt(np.sum((x)**2))"
   ]
  },
  {
   "cell_type": "code",
   "execution_count": 14,
   "metadata": {},
   "outputs": [
    {
     "data": {
      "text/plain": [
       "0.06"
      ]
     },
     "execution_count": 14,
     "metadata": {},
     "output_type": "execute_result"
    }
   ],
   "source": [
    "sigma * np.sqrt(1/num_points)"
   ]
  },
  {
   "cell_type": "markdown",
   "metadata": {},
   "source": [
    "# Same problem by training a normalizing flow"
   ]
  },
  {
   "cell_type": "code",
   "execution_count": 15,
   "metadata": {},
   "outputs": [],
   "source": [
    "from IPython.display import clear_output\n",
    "from time import sleep\n",
    "\n",
    "def live_plot_samples(samples, truth):\n",
    "    clear_output(wait=True)\n",
    "    sleep(1)\n",
    "    figure = corner.corner(\n",
    "        samples.numpy(), quantiles=[0.16, 0.5, 0.84],\n",
    "        show_titles=True, labels=[\"m\", \"c\"],\n",
    "        truth=truth\n",
    "    )\n",
    "\n",
    "    corner.overplot_lines(figure, truth, color=\"C1\")\n",
    "    corner.overplot_points(figure, truth[None], marker=\"s\", color=\"C1\")\n",
    "\n",
    "\n",
    "def live_plot_bilby_result(result, **kwargs):\n",
    "    clear_output(wait=True)\n",
    "    sleep(1)\n",
    "    result.plot_corner(priors=True)"
   ]
  },
  {
   "cell_type": "code",
   "execution_count": 16,
   "metadata": {},
   "outputs": [],
   "source": [
    "def get_data(m=None, c=None, num_points=1):\n",
    "    \"\"\"Sample m, c and return a batch of data with noise\"\"\"\n",
    "    m = priors['m'].sample() if m is None else m\n",
    "    c = priors['c'].sample() if c is None else c\n",
    "    #x = 8 * (np.random.uniform(size=num_points) - 0.5)\n",
    "    x = np.linspace(-4, 4, num_points)\n",
    "    y = m*x + c\n",
    "    y += sigma*np.random.normal(size=x.size)\n",
    "\n",
    "    return x, y, m, c"
   ]
  },
  {
   "cell_type": "markdown",
   "metadata": {},
   "source": [
    "# Generate simulations"
   ]
  },
  {
   "cell_type": "code",
   "execution_count": 17,
   "metadata": {},
   "outputs": [],
   "source": [
    "from torch.utils.data import Dataset, DataLoader"
   ]
  },
  {
   "cell_type": "code",
   "execution_count": 18,
   "metadata": {},
   "outputs": [
    {
     "name": "stderr",
     "output_type": "stream",
     "text": [
      "/home/deep/miniconda3/envs/a3d3-pe/lib/python3.9/site-packages/torch/utils/tensorboard/__init__.py:4: DeprecationWarning: distutils Version classes are deprecated. Use packaging.version instead.\n",
      "  if not hasattr(tensorboard, \"__version__\") or LooseVersion(\n",
      "/home/deep/miniconda3/envs/a3d3-pe/lib/python3.9/site-packages/torch/utils/tensorboard/__init__.py:6: DeprecationWarning: distutils Version classes are deprecated. Use packaging.version instead.\n",
      "  ) < LooseVersion(\"1.15\"):\n"
     ]
    }
   ],
   "source": [
    "import torch\n",
    "import torch.nn.functional as F\n",
    "from torch import nn, optim\n",
    "from torch.utils.tensorboard import SummaryWriter"
   ]
  },
  {
   "cell_type": "code",
   "execution_count": 19,
   "metadata": {},
   "outputs": [],
   "source": [
    "num_simulations = 10000\n",
    "theta_vals = []\n",
    "data_vals = []\n",
    "for ii in range(num_simulations):\n",
    "    x_val, y_val, m_val, c_val = get_data(num_points=100)\n",
    "    data_vals.append(y_val)\n",
    "    theta_vals.append([m_val, c_val])"
   ]
  },
  {
   "cell_type": "code",
   "execution_count": 20,
   "metadata": {},
   "outputs": [],
   "source": [
    "theta_vals = torch.from_numpy(np.array(theta_vals)).to(torch.float32)\n",
    "data_vals = torch.from_numpy(np.array(data_vals)).to(torch.float32)"
   ]
  },
  {
   "cell_type": "code",
   "execution_count": 21,
   "metadata": {
    "scrolled": true
   },
   "outputs": [],
   "source": [
    "class DataGenerator(Dataset):\n",
    "    def __len__(self):\n",
    "        return num_simulations\n",
    "\n",
    "    def __getitem__(self, idx):\n",
    "        if torch.is_tensor(idx):\n",
    "            idx = idx.tolist()\n",
    "\n",
    "        return theta_vals[idx], data_vals[idx]"
   ]
  },
  {
   "cell_type": "code",
   "execution_count": 22,
   "metadata": {},
   "outputs": [],
   "source": [
    "dataset = DataGenerator()"
   ]
  },
  {
   "cell_type": "code",
   "execution_count": 23,
   "metadata": {},
   "outputs": [],
   "source": [
    "train_set_size = int(0.8 * num_simulations)\n",
    "val_set_size = int(0.1 * num_simulations)\n",
    "test_set_size = int(0.1 * num_simulations)\n",
    "\n",
    "train_data, val_data, test_data = torch.utils.data.random_split(\n",
    "    dataset, [train_set_size, val_set_size, test_set_size])"
   ]
  },
  {
   "cell_type": "code",
   "execution_count": 24,
   "metadata": {},
   "outputs": [],
   "source": [
    "train_data_loader = DataLoader(\n",
    "    train_data, batch_size=20,\n",
    "    shuffle=True\n",
    ")\n",
    "\n",
    "val_data_loader = DataLoader(\n",
    "    val_data, batch_size=20,\n",
    "    shuffle=True\n",
    ")\n",
    "\n",
    "test_data_loader = DataLoader(\n",
    "    test_data, batch_size=1,\n",
    "    shuffle=False\n",
    ")"
   ]
  },
  {
   "cell_type": "code",
   "execution_count": 25,
   "metadata": {},
   "outputs": [],
   "source": [
    "for theta, data in train_data_loader:\n",
    "    break"
   ]
  },
  {
   "cell_type": "code",
   "execution_count": 26,
   "metadata": {},
   "outputs": [
    {
     "data": {
      "text/plain": [
       "(torch.Size([20, 2]), torch.Size([20, 100]))"
      ]
     },
     "execution_count": 26,
     "metadata": {},
     "output_type": "execute_result"
    }
   ],
   "source": [
    "theta.shape, data.shape"
   ]
  },
  {
   "cell_type": "markdown",
   "metadata": {},
   "source": [
    "# MAF with std normal"
   ]
  },
  {
   "cell_type": "code",
   "execution_count": 27,
   "metadata": {},
   "outputs": [],
   "source": [
    "import corner\n",
    "\n",
    "from nflows.distributions import StandardNormal\n",
    "from nflows.flows import Flow\n",
    "from nflows.transforms.autoregressive import MaskedAffineAutoregressiveTransform\n",
    "from nflows.transforms import AffineTransform, CompositeTransform, ReversePermutation, RandomPermutation\n",
    "\n",
    "from nflows.transforms import IdentityTransform\n",
    "\n",
    "import nflows.utils as torchutils"
   ]
  },
  {
   "cell_type": "code",
   "execution_count": 28,
   "metadata": {},
   "outputs": [],
   "source": [
    "def standardizing_transform(batch_t):\n",
    "    t_mean = torch.mean(batch_t)\n",
    "    t_std = torch.std(batch_t, dim=1)\n",
    "    t_std[t_std < 1e-6] = 1e-6\n",
    "    \n",
    "    return AffineTransform(shift=-t_mean / t_std, scale=1 / t_std)\n",
    "\n",
    "\n",
    "class ContextEncoder(nn.Module):\n",
    "    def __init__(self, num_hidden_layers=2, activation=torch.relu):\n",
    "        super().__init__()\n",
    "        self.num_hidden_layers = num_hidden_layers\n",
    "        self.activation = activation\n",
    "\n",
    "    def forward(self, x):\n",
    "        x = nn.Linear(num_points, 50)(x)\n",
    "        x = self.activation(x)\n",
    "        for _ in range(self.num_hidden_layers):\n",
    "            x = nn.Linear(50, 50)(x)\n",
    "            x = self.activation(x)\n",
    "        x = nn.Linear(50, 2)(x)\n",
    "        return x"
   ]
  },
  {
   "cell_type": "code",
   "execution_count": 29,
   "metadata": {},
   "outputs": [],
   "source": [
    "num_transforms = 5\n",
    "num_blocks = 2\n",
    "hidden_features = 50\n",
    "\n",
    "# embedding_net = ContextEncoder(num_hidden_layers=2)\n",
    "embedding_net = IdentityTransform()\n",
    "\n",
    "context_features = embedding_net(data[:1])[0].numel()\n",
    "\n",
    "base_dist = StandardNormal([theta[0].numel()])\n",
    "\n",
    "# transforms = [AffineTransform(shift=0, scale=1)]\n",
    "transforms = []\n",
    "\n",
    "for _ in range(num_transforms):\n",
    "    block = [\n",
    "        MaskedAffineAutoregressiveTransform(\n",
    "                features=theta[0].numel(),  # 2-dim posterior\n",
    "                hidden_features=hidden_features,\n",
    "                context_features=context_features,\n",
    "                num_blocks=num_blocks,\n",
    "                activation=torch.tanh,\n",
    "                use_batch_norm=False,\n",
    "                use_residual_blocks=False,\n",
    "        ),\n",
    "        RandomPermutation(features=theta[0].numel())\n",
    "    ]\n",
    "    transforms += block\n",
    "\n",
    "transform = CompositeTransform(transforms)\n",
    "\n",
    "flow = Flow(transform, base_dist)\n",
    "# flow = Flow(transform, base_dist, embedding_net)\n",
    "\n",
    "optimizer = optim.Adam(flow.parameters(), lr=1e-4)\n",
    "# optimizer = optim.SGD(flow.parameters(), lr=1e-4, momentum=0.9)\n",
    "\n",
    "scheduler = optim.lr_scheduler.ExponentialLR(optimizer, gamma=0.95)"
   ]
  },
  {
   "cell_type": "markdown",
   "metadata": {},
   "source": [
    "# Train/Validate"
   ]
  },
  {
   "cell_type": "code",
   "execution_count": 30,
   "metadata": {},
   "outputs": [],
   "source": [
    "def train_one_epoch(epoch_index, tb_writer):\n",
    "    running_loss = 0.\n",
    "    last_loss = 0.\n",
    "\n",
    "    for idx, val in enumerate(train_data_loader, 1):\n",
    "        theta, data = val\n",
    "        \n",
    "        optimizer.zero_grad()\n",
    "        loss = -flow.log_prob(theta, context=data).sum()\n",
    "        loss.backward()\n",
    "        optimizer.step()\n",
    "        # Gather data and report\n",
    "        running_loss += loss.item()\n",
    "        if idx % 100 == 0:\n",
    "            last_loss = running_loss / 100 # avg loss per batch after 1000 batches\n",
    "            print(' Avg. train loss/batch after {} batches = {:.4f}'.format(idx, last_loss))\n",
    "            tb_x = epoch_index * len(train_data_loader) + idx\n",
    "            tb_writer.add_scalar('Loss/train', last_loss, tb_x)\n",
    "            tb_writer.flush()\n",
    "            running_loss = 0.\n",
    "    return last_loss\n",
    "\n",
    "\n",
    "def val_one_epoch(epoch_index, tb_writer):\n",
    "    running_loss = 0.\n",
    "    last_loss = 0.\n",
    "\n",
    "    for idx, val in enumerate(val_data_loader, 1):\n",
    "        theta_val, data_val = val\n",
    "\n",
    "        loss = -flow.log_prob(theta_val, context=data_val).sum()\n",
    "        running_loss += loss.item()\n",
    "\n",
    "        if idx % 50 == 0:\n",
    "            last_loss = running_loss / 50\n",
    "            tb_x = epoch_index * len(val_data_loader) + idx + 1\n",
    "            tb_writer.add_scalar('Loss/val', last_loss, tb_x)\n",
    "            tb_writer.flush()\n",
    "            running_loss = 0.\n",
    "    tb_writer.flush()\n",
    "    return last_loss"
   ]
  },
  {
   "cell_type": "code",
   "execution_count": 31,
   "metadata": {},
   "outputs": [
    {
     "data": {
      "text/plain": [
       "Flow(\n",
       "  (_transform): CompositeTransform(\n",
       "    (_transforms): ModuleList(\n",
       "      (0): MaskedAffineAutoregressiveTransform(\n",
       "        (autoregressive_net): MADE(\n",
       "          (initial_layer): MaskedLinear(in_features=2, out_features=50, bias=True)\n",
       "          (context_layer): Linear(in_features=100, out_features=50, bias=True)\n",
       "          (blocks): ModuleList(\n",
       "            (0): MaskedFeedforwardBlock(\n",
       "              (linear): MaskedLinear(in_features=50, out_features=50, bias=True)\n",
       "              (dropout): Dropout(p=0.0, inplace=False)\n",
       "            )\n",
       "            (1): MaskedFeedforwardBlock(\n",
       "              (linear): MaskedLinear(in_features=50, out_features=50, bias=True)\n",
       "              (dropout): Dropout(p=0.0, inplace=False)\n",
       "            )\n",
       "          )\n",
       "          (final_layer): MaskedLinear(in_features=50, out_features=4, bias=True)\n",
       "        )\n",
       "      )\n",
       "      (1): RandomPermutation()\n",
       "      (2): MaskedAffineAutoregressiveTransform(\n",
       "        (autoregressive_net): MADE(\n",
       "          (initial_layer): MaskedLinear(in_features=2, out_features=50, bias=True)\n",
       "          (context_layer): Linear(in_features=100, out_features=50, bias=True)\n",
       "          (blocks): ModuleList(\n",
       "            (0): MaskedFeedforwardBlock(\n",
       "              (linear): MaskedLinear(in_features=50, out_features=50, bias=True)\n",
       "              (dropout): Dropout(p=0.0, inplace=False)\n",
       "            )\n",
       "            (1): MaskedFeedforwardBlock(\n",
       "              (linear): MaskedLinear(in_features=50, out_features=50, bias=True)\n",
       "              (dropout): Dropout(p=0.0, inplace=False)\n",
       "            )\n",
       "          )\n",
       "          (final_layer): MaskedLinear(in_features=50, out_features=4, bias=True)\n",
       "        )\n",
       "      )\n",
       "      (3): RandomPermutation()\n",
       "      (4): MaskedAffineAutoregressiveTransform(\n",
       "        (autoregressive_net): MADE(\n",
       "          (initial_layer): MaskedLinear(in_features=2, out_features=50, bias=True)\n",
       "          (context_layer): Linear(in_features=100, out_features=50, bias=True)\n",
       "          (blocks): ModuleList(\n",
       "            (0): MaskedFeedforwardBlock(\n",
       "              (linear): MaskedLinear(in_features=50, out_features=50, bias=True)\n",
       "              (dropout): Dropout(p=0.0, inplace=False)\n",
       "            )\n",
       "            (1): MaskedFeedforwardBlock(\n",
       "              (linear): MaskedLinear(in_features=50, out_features=50, bias=True)\n",
       "              (dropout): Dropout(p=0.0, inplace=False)\n",
       "            )\n",
       "          )\n",
       "          (final_layer): MaskedLinear(in_features=50, out_features=4, bias=True)\n",
       "        )\n",
       "      )\n",
       "      (5): RandomPermutation()\n",
       "      (6): MaskedAffineAutoregressiveTransform(\n",
       "        (autoregressive_net): MADE(\n",
       "          (initial_layer): MaskedLinear(in_features=2, out_features=50, bias=True)\n",
       "          (context_layer): Linear(in_features=100, out_features=50, bias=True)\n",
       "          (blocks): ModuleList(\n",
       "            (0): MaskedFeedforwardBlock(\n",
       "              (linear): MaskedLinear(in_features=50, out_features=50, bias=True)\n",
       "              (dropout): Dropout(p=0.0, inplace=False)\n",
       "            )\n",
       "            (1): MaskedFeedforwardBlock(\n",
       "              (linear): MaskedLinear(in_features=50, out_features=50, bias=True)\n",
       "              (dropout): Dropout(p=0.0, inplace=False)\n",
       "            )\n",
       "          )\n",
       "          (final_layer): MaskedLinear(in_features=50, out_features=4, bias=True)\n",
       "        )\n",
       "      )\n",
       "      (7): RandomPermutation()\n",
       "      (8): MaskedAffineAutoregressiveTransform(\n",
       "        (autoregressive_net): MADE(\n",
       "          (initial_layer): MaskedLinear(in_features=2, out_features=50, bias=True)\n",
       "          (context_layer): Linear(in_features=100, out_features=50, bias=True)\n",
       "          (blocks): ModuleList(\n",
       "            (0): MaskedFeedforwardBlock(\n",
       "              (linear): MaskedLinear(in_features=50, out_features=50, bias=True)\n",
       "              (dropout): Dropout(p=0.0, inplace=False)\n",
       "            )\n",
       "            (1): MaskedFeedforwardBlock(\n",
       "              (linear): MaskedLinear(in_features=50, out_features=50, bias=True)\n",
       "              (dropout): Dropout(p=0.0, inplace=False)\n",
       "            )\n",
       "          )\n",
       "          (final_layer): MaskedLinear(in_features=50, out_features=4, bias=True)\n",
       "        )\n",
       "      )\n",
       "      (9): RandomPermutation()\n",
       "    )\n",
       "  )\n",
       "  (_distribution): StandardNormal()\n",
       "  (_embedding_net): Identity()\n",
       ")"
      ]
     },
     "execution_count": 31,
     "metadata": {},
     "output_type": "execute_result"
    }
   ],
   "source": [
    "flow"
   ]
  },
  {
   "cell_type": "code",
   "execution_count": 32,
   "metadata": {},
   "outputs": [],
   "source": [
    "writer = SummaryWriter(\"linear_regression_again\", comment=\"With LR=1e-4\", flush_secs=5)\n",
    "epoch_number = 0"
   ]
  },
  {
   "cell_type": "code",
   "execution_count": 33,
   "metadata": {
    "scrolled": true
   },
   "outputs": [
    {
     "name": "stdout",
     "output_type": "stream",
     "text": [
      "EPOCH 1:\n",
      " Avg. train loss/batch after 100 batches = 90.7490\n",
      " Avg. train loss/batch after 200 batches = 46.8461\n",
      " Avg. train loss/batch after 300 batches = 15.5086\n",
      " Avg. train loss/batch after 400 batches = -3.5842\n",
      "Train/Val Loss after epoch: -3.5842/-10.2712\n",
      "EPOCH 2:\n",
      " Avg. train loss/batch after 100 batches = -14.0349\n",
      " Avg. train loss/batch after 200 batches = -18.3232\n",
      " Avg. train loss/batch after 300 batches = -21.9343\n",
      " Avg. train loss/batch after 400 batches = -24.7971\n",
      "Train/Val Loss after epoch: -24.7971/-25.6343\n",
      "EPOCH 3:\n",
      " Avg. train loss/batch after 100 batches = -26.9987\n",
      " Avg. train loss/batch after 200 batches = -29.3778\n",
      " Avg. train loss/batch after 300 batches = -29.9703\n",
      " Avg. train loss/batch after 400 batches = -32.0152\n",
      "Train/Val Loss after epoch: -32.0152/-32.6984\n",
      "EPOCH 4:\n",
      " Avg. train loss/batch after 100 batches = -33.8377\n",
      " Avg. train loss/batch after 200 batches = -34.8709\n",
      " Avg. train loss/batch after 300 batches = -35.0347\n",
      " Avg. train loss/batch after 400 batches = -35.1378\n",
      "Train/Val Loss after epoch: -35.1378/-34.2441\n",
      "EPOCH 5:\n",
      " Avg. train loss/batch after 100 batches = -38.0767\n",
      " Avg. train loss/batch after 200 batches = -38.1448\n",
      " Avg. train loss/batch after 300 batches = -38.8147\n",
      " Avg. train loss/batch after 400 batches = -39.8514\n",
      "Train/Val Loss after epoch: -39.8514/-38.5102\n",
      "EPOCH 6:\n",
      " Avg. train loss/batch after 100 batches = -40.8501\n",
      " Avg. train loss/batch after 200 batches = -41.2636\n",
      " Avg. train loss/batch after 300 batches = -41.0668\n",
      " Avg. train loss/batch after 400 batches = -41.9630\n",
      "Train/Val Loss after epoch: -41.9630/-40.5350\n",
      "EPOCH 7:\n",
      " Avg. train loss/batch after 100 batches = -43.2107\n",
      " Avg. train loss/batch after 200 batches = -43.1874\n",
      " Avg. train loss/batch after 300 batches = -43.2425\n",
      " Avg. train loss/batch after 400 batches = -44.4545\n",
      "Train/Val Loss after epoch: -44.4545/-43.1480\n",
      "EPOCH 8:\n",
      " Avg. train loss/batch after 100 batches = -45.2521\n",
      " Avg. train loss/batch after 200 batches = -44.6260\n",
      " Avg. train loss/batch after 300 batches = -45.6599\n",
      " Avg. train loss/batch after 400 batches = -45.4375\n",
      "Train/Val Loss after epoch: -45.4375/-45.0695\n",
      "EPOCH 9:\n",
      " Avg. train loss/batch after 100 batches = -47.2193\n",
      " Avg. train loss/batch after 200 batches = -46.4196\n",
      " Avg. train loss/batch after 300 batches = -46.6429\n",
      " Avg. train loss/batch after 400 batches = -46.9448\n",
      "Train/Val Loss after epoch: -46.9448/-44.8055\n",
      "EPOCH 10:\n",
      " Avg. train loss/batch after 100 batches = -47.4925\n",
      " Avg. train loss/batch after 200 batches = -48.4990\n",
      " Avg. train loss/batch after 300 batches = -48.9721\n",
      " Avg. train loss/batch after 400 batches = -46.4965\n",
      "Train/Val Loss after epoch: -46.4965/-45.3384\n",
      "EPOCH 11:\n",
      " Avg. train loss/batch after 100 batches = -48.2057\n",
      " Avg. train loss/batch after 200 batches = -48.8132\n",
      " Avg. train loss/batch after 300 batches = -48.6896\n",
      " Avg. train loss/batch after 400 batches = -49.8430\n",
      "Train/Val Loss after epoch: -49.8430/-47.8736\n",
      "EPOCH 12:\n",
      " Avg. train loss/batch after 100 batches = -50.8486\n",
      " Avg. train loss/batch after 200 batches = -48.9976\n",
      " Avg. train loss/batch after 300 batches = -49.5227\n",
      " Avg. train loss/batch after 400 batches = -49.7736\n",
      "Train/Val Loss after epoch: -49.7736/-47.7655\n",
      "EPOCH 13:\n",
      " Avg. train loss/batch after 100 batches = -51.1248\n",
      " Avg. train loss/batch after 200 batches = -50.1030\n",
      " Avg. train loss/batch after 300 batches = -50.0466\n",
      " Avg. train loss/batch after 400 batches = -50.2976\n",
      "Train/Val Loss after epoch: -50.2976/-48.5246\n",
      "EPOCH 14:\n",
      " Avg. train loss/batch after 100 batches = -51.1951\n",
      " Avg. train loss/batch after 200 batches = -51.4386\n",
      " Avg. train loss/batch after 300 batches = -51.1842\n",
      " Avg. train loss/batch after 400 batches = -50.3179\n",
      "Train/Val Loss after epoch: -50.3179/-49.5402\n",
      "EPOCH 15:\n",
      " Avg. train loss/batch after 100 batches = -51.4813\n",
      " Avg. train loss/batch after 200 batches = -51.1223\n",
      " Avg. train loss/batch after 300 batches = -51.0832\n",
      " Avg. train loss/batch after 400 batches = -52.0239\n",
      "Train/Val Loss after epoch: -52.0239/-48.8951\n",
      "EPOCH 16:\n",
      " Avg. train loss/batch after 100 batches = -53.4507\n",
      " Avg. train loss/batch after 200 batches = -52.1468\n",
      " Avg. train loss/batch after 300 batches = -50.5169\n",
      " Avg. train loss/batch after 400 batches = -51.8831\n",
      "Train/Val Loss after epoch: -51.8831/-49.1163\n",
      "EPOCH 17:\n",
      " Avg. train loss/batch after 100 batches = -52.4224\n",
      " Avg. train loss/batch after 200 batches = -52.9078\n",
      " Avg. train loss/batch after 300 batches = -52.5103\n",
      " Avg. train loss/batch after 400 batches = -52.0147\n",
      "Train/Val Loss after epoch: -52.0147/-50.5746\n",
      "EPOCH 18:\n",
      " Avg. train loss/batch after 100 batches = -52.6783\n",
      " Avg. train loss/batch after 200 batches = -53.7793\n",
      " Avg. train loss/batch after 300 batches = -52.1807\n",
      " Avg. train loss/batch after 400 batches = -52.9198\n",
      "Train/Val Loss after epoch: -52.9198/-49.9348\n",
      "EPOCH 19:\n",
      " Avg. train loss/batch after 100 batches = -52.5071\n",
      " Avg. train loss/batch after 200 batches = -53.0988\n",
      " Avg. train loss/batch after 300 batches = -53.3442\n",
      " Avg. train loss/batch after 400 batches = -53.1835\n",
      "Train/Val Loss after epoch: -53.1835/-50.2244\n",
      "EPOCH 20:\n",
      " Avg. train loss/batch after 100 batches = -52.5574\n",
      " Avg. train loss/batch after 200 batches = -54.2806\n",
      " Avg. train loss/batch after 300 batches = -54.1220\n",
      " Avg. train loss/batch after 400 batches = -53.4053\n",
      "Train/Val Loss after epoch: -53.4053/-51.2307\n",
      "EPOCH 21:\n",
      " Avg. train loss/batch after 100 batches = -53.5968\n",
      " Avg. train loss/batch after 200 batches = -53.8132\n",
      " Avg. train loss/batch after 300 batches = -54.7125\n",
      " Avg. train loss/batch after 400 batches = -53.3764\n",
      "Train/Val Loss after epoch: -53.3764/-50.7943\n",
      "EPOCH 22:\n",
      " Avg. train loss/batch after 100 batches = -53.8814\n",
      " Avg. train loss/batch after 200 batches = -54.0565\n",
      " Avg. train loss/batch after 300 batches = -54.5634\n",
      " Avg. train loss/batch after 400 batches = -54.4935\n",
      "Train/Val Loss after epoch: -54.4935/-50.4748\n",
      "EPOCH 23:\n",
      " Avg. train loss/batch after 100 batches = -54.0723\n",
      " Avg. train loss/batch after 200 batches = -54.6241\n",
      " Avg. train loss/batch after 300 batches = -54.3229\n",
      " Avg. train loss/batch after 400 batches = -54.8828\n",
      "Train/Val Loss after epoch: -54.8828/-50.2081\n",
      "EPOCH 24:\n",
      " Avg. train loss/batch after 100 batches = -54.5299\n",
      " Avg. train loss/batch after 200 batches = -54.0566\n",
      " Avg. train loss/batch after 300 batches = -55.3441\n",
      " Avg. train loss/batch after 400 batches = -54.3044\n",
      "Train/Val Loss after epoch: -54.3044/-51.4903\n",
      "EPOCH 25:\n",
      " Avg. train loss/batch after 100 batches = -55.8044\n",
      " Avg. train loss/batch after 200 batches = -54.5449\n",
      " Avg. train loss/batch after 300 batches = -54.9595\n",
      " Avg. train loss/batch after 400 batches = -54.6290\n",
      "Train/Val Loss after epoch: -54.6290/-52.0379\n",
      "EPOCH 26:\n",
      " Avg. train loss/batch after 100 batches = -55.7134\n",
      " Avg. train loss/batch after 200 batches = -55.2294\n",
      " Avg. train loss/batch after 300 batches = -55.0646\n",
      " Avg. train loss/batch after 400 batches = -55.2730\n",
      "Train/Val Loss after epoch: -55.2730/-51.5892\n",
      "EPOCH 27:\n",
      " Avg. train loss/batch after 100 batches = -55.7067\n",
      " Avg. train loss/batch after 200 batches = -55.5064\n",
      " Avg. train loss/batch after 300 batches = -55.4956\n",
      " Avg. train loss/batch after 400 batches = -54.7581\n",
      "Train/Val Loss after epoch: -54.7581/-51.9438\n",
      "EPOCH 28:\n",
      " Avg. train loss/batch after 100 batches = -55.6993\n",
      " Avg. train loss/batch after 200 batches = -55.4357\n",
      " Avg. train loss/batch after 300 batches = -55.4808\n",
      " Avg. train loss/batch after 400 batches = -55.7018\n",
      "Train/Val Loss after epoch: -55.7018/-50.9199\n",
      "EPOCH 29:\n",
      " Avg. train loss/batch after 100 batches = -55.5035\n",
      " Avg. train loss/batch after 200 batches = -55.5687\n",
      " Avg. train loss/batch after 300 batches = -55.6518\n",
      " Avg. train loss/batch after 400 batches = -55.5407\n",
      "Train/Val Loss after epoch: -55.5407/-51.1922\n",
      "EPOCH 30:\n",
      " Avg. train loss/batch after 100 batches = -56.9982\n",
      " Avg. train loss/batch after 200 batches = -55.4548\n",
      " Avg. train loss/batch after 300 batches = -55.5136\n",
      " Avg. train loss/batch after 400 batches = -55.6377\n",
      "Train/Val Loss after epoch: -55.6377/-52.2712\n",
      "EPOCH 31:\n",
      " Avg. train loss/batch after 100 batches = -56.1749\n",
      " Avg. train loss/batch after 200 batches = -56.4491\n",
      " Avg. train loss/batch after 300 batches = -55.1467\n",
      " Avg. train loss/batch after 400 batches = -56.4176\n",
      "Train/Val Loss after epoch: -56.4176/-51.4323\n",
      "EPOCH 32:\n",
      " Avg. train loss/batch after 100 batches = -56.7569\n"
     ]
    },
    {
     "name": "stdout",
     "output_type": "stream",
     "text": [
      " Avg. train loss/batch after 200 batches = -55.8657\n",
      " Avg. train loss/batch after 300 batches = -55.7254\n",
      " Avg. train loss/batch after 400 batches = -56.5271\n",
      "Train/Val Loss after epoch: -56.5271/-52.5954\n",
      "EPOCH 33:\n",
      " Avg. train loss/batch after 100 batches = -56.6922\n",
      " Avg. train loss/batch after 200 batches = -56.0177\n",
      " Avg. train loss/batch after 300 batches = -56.2960\n",
      " Avg. train loss/batch after 400 batches = -56.1641\n",
      "Train/Val Loss after epoch: -56.1641/-52.2222\n",
      "EPOCH 34:\n",
      " Avg. train loss/batch after 100 batches = -55.9718\n",
      " Avg. train loss/batch after 200 batches = -56.5554\n",
      " Avg. train loss/batch after 300 batches = -56.9909\n",
      " Avg. train loss/batch after 400 batches = -56.6061\n",
      "Train/Val Loss after epoch: -56.6061/-51.5544\n",
      "EPOCH 35:\n",
      " Avg. train loss/batch after 100 batches = -56.8009\n",
      " Avg. train loss/batch after 200 batches = -56.5765\n",
      " Avg. train loss/batch after 300 batches = -56.5683\n",
      " Avg. train loss/batch after 400 batches = -56.5213\n",
      "Train/Val Loss after epoch: -56.5213/-52.6439\n",
      "EPOCH 36:\n",
      " Avg. train loss/batch after 100 batches = -55.9849\n",
      " Avg. train loss/batch after 200 batches = -57.1551\n",
      " Avg. train loss/batch after 300 batches = -56.7546\n",
      " Avg. train loss/batch after 400 batches = -56.7317\n",
      "Train/Val Loss after epoch: -56.7317/-52.6569\n",
      "EPOCH 37:\n",
      " Avg. train loss/batch after 100 batches = -56.7763\n",
      " Avg. train loss/batch after 200 batches = -56.9207\n",
      " Avg. train loss/batch after 300 batches = -57.0695\n",
      " Avg. train loss/batch after 400 batches = -56.7408\n",
      "Train/Val Loss after epoch: -56.7408/-52.3725\n",
      "EPOCH 38:\n",
      " Avg. train loss/batch after 100 batches = -56.8330\n",
      " Avg. train loss/batch after 200 batches = -56.7087\n",
      " Avg. train loss/batch after 300 batches = -56.8337\n",
      " Avg. train loss/batch after 400 batches = -57.7612\n",
      "Train/Val Loss after epoch: -57.7612/-52.2998\n",
      "EPOCH 39:\n",
      " Avg. train loss/batch after 100 batches = -57.2475\n",
      " Avg. train loss/batch after 200 batches = -56.4093\n",
      " Avg. train loss/batch after 300 batches = -57.7778\n",
      " Avg. train loss/batch after 400 batches = -57.0038\n",
      "Train/Val Loss after epoch: -57.0038/-52.7317\n",
      "EPOCH 40:\n",
      " Avg. train loss/batch after 100 batches = -56.7596\n",
      " Avg. train loss/batch after 200 batches = -57.2856\n",
      " Avg. train loss/batch after 300 batches = -57.3267\n",
      " Avg. train loss/batch after 400 batches = -57.5935\n",
      "Train/Val Loss after epoch: -57.5935/-52.9479\n",
      "EPOCH 41:\n",
      " Avg. train loss/batch after 100 batches = -56.7979\n",
      " Avg. train loss/batch after 200 batches = -57.7268\n",
      " Avg. train loss/batch after 300 batches = -57.5231\n",
      " Avg. train loss/batch after 400 batches = -57.0877\n",
      "Train/Val Loss after epoch: -57.0877/-52.5741\n",
      "EPOCH 42:\n",
      " Avg. train loss/batch after 100 batches = -56.8792\n",
      " Avg. train loss/batch after 200 batches = -57.1090\n",
      " Avg. train loss/batch after 300 batches = -57.6190\n",
      " Avg. train loss/batch after 400 batches = -57.7619\n",
      "Train/Val Loss after epoch: -57.7619/-52.8608\n",
      "EPOCH 43:\n",
      " Avg. train loss/batch after 100 batches = -57.8352\n",
      " Avg. train loss/batch after 200 batches = -57.0369\n",
      " Avg. train loss/batch after 300 batches = -57.6483\n",
      " Avg. train loss/batch after 400 batches = -57.0778\n",
      "Train/Val Loss after epoch: -57.0778/-53.1026\n",
      "EPOCH 44:\n",
      " Avg. train loss/batch after 100 batches = -57.4063\n",
      " Avg. train loss/batch after 200 batches = -56.6423\n",
      " Avg. train loss/batch after 300 batches = -58.2039\n",
      " Avg. train loss/batch after 400 batches = -57.9316\n",
      "Train/Val Loss after epoch: -57.9316/-52.7240\n",
      "EPOCH 45:\n",
      " Avg. train loss/batch after 100 batches = -57.3182\n",
      " Avg. train loss/batch after 200 batches = -57.5773\n",
      " Avg. train loss/batch after 300 batches = -57.5755\n",
      " Avg. train loss/batch after 400 batches = -57.8347\n",
      "Train/Val Loss after epoch: -57.8347/-53.0056\n",
      "EPOCH 46:\n",
      " Avg. train loss/batch after 100 batches = -57.6347\n",
      " Avg. train loss/batch after 200 batches = -58.0442\n",
      " Avg. train loss/batch after 300 batches = -57.2434\n",
      " Avg. train loss/batch after 400 batches = -57.7252\n",
      "Train/Val Loss after epoch: -57.7252/-52.6895\n",
      "EPOCH 47:\n",
      " Avg. train loss/batch after 100 batches = -57.9537\n",
      " Avg. train loss/batch after 200 batches = -57.8856\n",
      " Avg. train loss/batch after 300 batches = -57.8621\n",
      " Avg. train loss/batch after 400 batches = -57.1956\n",
      "Train/Val Loss after epoch: -57.1956/-53.2898\n",
      "EPOCH 48:\n",
      " Avg. train loss/batch after 100 batches = -56.9262\n",
      " Avg. train loss/batch after 200 batches = -58.2365\n",
      " Avg. train loss/batch after 300 batches = -57.3912\n",
      " Avg. train loss/batch after 400 batches = -58.6015\n",
      "Train/Val Loss after epoch: -58.6015/-52.7349\n",
      "EPOCH 49:\n",
      " Avg. train loss/batch after 100 batches = -57.6890\n",
      " Avg. train loss/batch after 200 batches = -57.9298\n",
      " Avg. train loss/batch after 300 batches = -57.8379\n",
      " Avg. train loss/batch after 400 batches = -58.1849\n",
      "Train/Val Loss after epoch: -58.1849/-53.2275\n",
      "EPOCH 50:\n",
      " Avg. train loss/batch after 100 batches = -57.3978\n",
      " Avg. train loss/batch after 200 batches = -57.9841\n",
      " Avg. train loss/batch after 300 batches = -58.2116\n",
      " Avg. train loss/batch after 400 batches = -58.2399\n",
      "Train/Val Loss after epoch: -58.2399/-53.4958\n",
      "EPOCH 51:\n",
      " Avg. train loss/batch after 100 batches = -57.8824\n",
      " Avg. train loss/batch after 200 batches = -57.7937\n",
      " Avg. train loss/batch after 300 batches = -58.0404\n",
      " Avg. train loss/batch after 400 batches = -58.3883\n",
      "Train/Val Loss after epoch: -58.3883/-53.6488\n",
      "EPOCH 52:\n",
      " Avg. train loss/batch after 100 batches = -58.5565\n",
      " Avg. train loss/batch after 200 batches = -57.5919\n",
      " Avg. train loss/batch after 300 batches = -57.9064\n",
      " Avg. train loss/batch after 400 batches = -58.2492\n",
      "Train/Val Loss after epoch: -58.2492/-53.2981\n",
      "EPOCH 53:\n",
      " Avg. train loss/batch after 100 batches = -58.0899\n",
      " Avg. train loss/batch after 200 batches = -57.9713\n",
      " Avg. train loss/batch after 300 batches = -57.5833\n",
      " Avg. train loss/batch after 400 batches = -58.8608\n",
      "Train/Val Loss after epoch: -58.8608/-52.8712\n",
      "EPOCH 54:\n",
      " Avg. train loss/batch after 100 batches = -58.5422\n",
      " Avg. train loss/batch after 200 batches = -58.6583\n",
      " Avg. train loss/batch after 300 batches = -58.1931\n",
      " Avg. train loss/batch after 400 batches = -57.4138\n",
      "Train/Val Loss after epoch: -57.4138/-53.0737\n",
      "EPOCH 55:\n",
      " Avg. train loss/batch after 100 batches = -58.1369\n",
      " Avg. train loss/batch after 200 batches = -58.1368\n",
      " Avg. train loss/batch after 300 batches = -59.0373\n",
      " Avg. train loss/batch after 400 batches = -57.6127\n",
      "Train/Val Loss after epoch: -57.6127/-53.3362\n",
      "EPOCH 56:\n",
      " Avg. train loss/batch after 100 batches = -58.4465\n",
      " Avg. train loss/batch after 200 batches = -58.2395\n",
      " Avg. train loss/batch after 300 batches = -58.1023\n",
      " Avg. train loss/batch after 400 batches = -58.4957\n",
      "Train/Val Loss after epoch: -58.4957/-53.5523\n",
      "EPOCH 57:\n",
      " Avg. train loss/batch after 100 batches = -58.8918\n",
      " Avg. train loss/batch after 200 batches = -58.2759\n",
      " Avg. train loss/batch after 300 batches = -58.0906\n",
      " Avg. train loss/batch after 400 batches = -57.8901\n",
      "Train/Val Loss after epoch: -57.8901/-53.4398\n",
      "EPOCH 58:\n",
      " Avg. train loss/batch after 100 batches = -58.2078\n",
      " Avg. train loss/batch after 200 batches = -58.3960\n",
      " Avg. train loss/batch after 300 batches = -58.2137\n",
      " Avg. train loss/batch after 400 batches = -58.4926\n",
      "Train/Val Loss after epoch: -58.4926/-53.4892\n",
      "EPOCH 59:\n",
      " Avg. train loss/batch after 100 batches = -58.9059\n",
      " Avg. train loss/batch after 200 batches = -58.0381\n",
      " Avg. train loss/batch after 300 batches = -58.7183\n",
      " Avg. train loss/batch after 400 batches = -57.8694\n",
      "Train/Val Loss after epoch: -57.8694/-53.4617\n",
      "EPOCH 60:\n",
      " Avg. train loss/batch after 100 batches = -58.3636\n",
      " Avg. train loss/batch after 200 batches = -58.4295\n",
      " Avg. train loss/batch after 300 batches = -58.4476\n",
      " Avg. train loss/batch after 400 batches = -58.2556\n",
      "Train/Val Loss after epoch: -58.2556/-53.5076\n",
      "EPOCH 61:\n",
      " Avg. train loss/batch after 100 batches = -57.7427\n",
      " Avg. train loss/batch after 200 batches = -58.7198\n",
      " Avg. train loss/batch after 300 batches = -58.1757\n",
      " Avg. train loss/batch after 400 batches = -59.1873\n",
      "Train/Val Loss after epoch: -59.1873/-53.3705\n",
      "EPOCH 62:\n",
      " Avg. train loss/batch after 100 batches = -58.7218\n",
      " Avg. train loss/batch after 200 batches = -58.3354\n",
      " Avg. train loss/batch after 300 batches = -57.9376\n",
      " Avg. train loss/batch after 400 batches = -58.9436\n",
      "Train/Val Loss after epoch: -58.9436/-53.3656\n",
      "EPOCH 63:\n",
      " Avg. train loss/batch after 100 batches = -59.3700\n",
      " Avg. train loss/batch after 200 batches = -58.3202\n"
     ]
    },
    {
     "name": "stdout",
     "output_type": "stream",
     "text": [
      " Avg. train loss/batch after 300 batches = -58.2744\n",
      " Avg. train loss/batch after 400 batches = -58.0831\n",
      "Train/Val Loss after epoch: -58.0831/-53.6889\n",
      "EPOCH 64:\n",
      " Avg. train loss/batch after 100 batches = -58.5682\n",
      " Avg. train loss/batch after 200 batches = -58.0995\n",
      " Avg. train loss/batch after 300 batches = -59.0567\n",
      " Avg. train loss/batch after 400 batches = -58.5123\n",
      "Train/Val Loss after epoch: -58.5123/-53.3573\n",
      "EPOCH 65:\n",
      " Avg. train loss/batch after 100 batches = -58.6661\n",
      " Avg. train loss/batch after 200 batches = -58.5072\n",
      " Avg. train loss/batch after 300 batches = -58.5657\n",
      " Avg. train loss/batch after 400 batches = -58.6664\n",
      "Train/Val Loss after epoch: -58.6664/-53.6273\n",
      "EPOCH 66:\n",
      " Avg. train loss/batch after 100 batches = -59.5962\n",
      " Avg. train loss/batch after 200 batches = -57.8797\n",
      " Avg. train loss/batch after 300 batches = -58.4274\n",
      " Avg. train loss/batch after 400 batches = -58.3812\n",
      "Train/Val Loss after epoch: -58.3812/-53.4929\n",
      "EPOCH 67:\n",
      " Avg. train loss/batch after 100 batches = -58.8672\n",
      " Avg. train loss/batch after 200 batches = -58.7940\n",
      " Avg. train loss/batch after 300 batches = -59.1207\n",
      " Avg. train loss/batch after 400 batches = -57.8492\n",
      "Train/Val Loss after epoch: -57.8492/-53.5689\n",
      "EPOCH 68:\n",
      " Avg. train loss/batch after 100 batches = -58.6102\n",
      " Avg. train loss/batch after 200 batches = -58.4327\n",
      " Avg. train loss/batch after 300 batches = -58.9765\n",
      " Avg. train loss/batch after 400 batches = -58.5641\n",
      "Train/Val Loss after epoch: -58.5641/-53.5617\n",
      "EPOCH 69:\n",
      " Avg. train loss/batch after 100 batches = -58.7194\n",
      " Avg. train loss/batch after 200 batches = -58.2267\n",
      " Avg. train loss/batch after 300 batches = -59.1572\n",
      " Avg. train loss/batch after 400 batches = -58.5925\n",
      "Train/Val Loss after epoch: -58.5925/-53.6512\n",
      "EPOCH 70:\n",
      " Avg. train loss/batch after 100 batches = -58.5160\n",
      " Avg. train loss/batch after 200 batches = -58.3241\n",
      " Avg. train loss/batch after 300 batches = -59.2643\n",
      " Avg. train loss/batch after 400 batches = -58.7480\n",
      "Train/Val Loss after epoch: -58.7480/-53.6476\n",
      "EPOCH 71:\n",
      " Avg. train loss/batch after 100 batches = -58.4938\n",
      " Avg. train loss/batch after 200 batches = -58.1775\n",
      " Avg. train loss/batch after 300 batches = -58.7858\n",
      " Avg. train loss/batch after 400 batches = -59.4479\n",
      "Train/Val Loss after epoch: -59.4479/-53.6832\n",
      "EPOCH 72:\n",
      " Avg. train loss/batch after 100 batches = -58.7431\n",
      " Avg. train loss/batch after 200 batches = -58.5267\n",
      " Avg. train loss/batch after 300 batches = -58.8745\n",
      " Avg. train loss/batch after 400 batches = -58.7366\n",
      "Train/Val Loss after epoch: -58.7366/-53.6808\n",
      "EPOCH 73:\n",
      " Avg. train loss/batch after 100 batches = -59.1497\n",
      " Avg. train loss/batch after 200 batches = -58.6802\n",
      " Avg. train loss/batch after 300 batches = -58.5170\n",
      " Avg. train loss/batch after 400 batches = -58.7632\n",
      "Train/Val Loss after epoch: -58.7632/-53.5111\n",
      "EPOCH 74:\n",
      " Avg. train loss/batch after 100 batches = -58.5439\n",
      " Avg. train loss/batch after 200 batches = -58.4432\n",
      " Avg. train loss/batch after 300 batches = -59.1948\n",
      " Avg. train loss/batch after 400 batches = -58.9274\n",
      "Train/Val Loss after epoch: -58.9274/-53.5887\n",
      "EPOCH 75:\n",
      " Avg. train loss/batch after 100 batches = -58.6648\n",
      " Avg. train loss/batch after 200 batches = -58.9005\n",
      " Avg. train loss/batch after 300 batches = -58.8750\n",
      " Avg. train loss/batch after 400 batches = -58.7413\n",
      "Train/Val Loss after epoch: -58.7413/-53.7404\n",
      "EPOCH 76:\n",
      " Avg. train loss/batch after 100 batches = -59.3361\n",
      " Avg. train loss/batch after 200 batches = -58.7712\n",
      " Avg. train loss/batch after 300 batches = -59.0136\n",
      " Avg. train loss/batch after 400 batches = -58.0327\n",
      "Train/Val Loss after epoch: -58.0327/-53.7249\n",
      "EPOCH 77:\n",
      " Avg. train loss/batch after 100 batches = -59.6244\n",
      " Avg. train loss/batch after 200 batches = -58.9981\n",
      " Avg. train loss/batch after 300 batches = -58.3916\n",
      " Avg. train loss/batch after 400 batches = -58.3232\n",
      "Train/Val Loss after epoch: -58.3232/-53.7316\n",
      "EPOCH 78:\n",
      " Avg. train loss/batch after 100 batches = -58.2387\n",
      " Avg. train loss/batch after 200 batches = -59.2277\n",
      " Avg. train loss/batch after 300 batches = -58.7920\n",
      " Avg. train loss/batch after 400 batches = -59.1829\n",
      "Train/Val Loss after epoch: -59.1829/-53.6783\n",
      "EPOCH 79:\n",
      " Avg. train loss/batch after 100 batches = -59.1498\n",
      " Avg. train loss/batch after 200 batches = -58.9847\n",
      " Avg. train loss/batch after 300 batches = -58.7863\n",
      " Avg. train loss/batch after 400 batches = -58.5317\n",
      "Train/Val Loss after epoch: -58.5317/-53.4723\n",
      "EPOCH 80:\n",
      " Avg. train loss/batch after 100 batches = -59.0986\n",
      " Avg. train loss/batch after 200 batches = -58.3979\n",
      " Avg. train loss/batch after 300 batches = -58.6890\n",
      " Avg. train loss/batch after 400 batches = -59.2546\n",
      "Train/Val Loss after epoch: -59.2546/-53.7953\n",
      "EPOCH 81:\n",
      " Avg. train loss/batch after 100 batches = -58.8154\n",
      " Avg. train loss/batch after 200 batches = -59.2962\n",
      " Avg. train loss/batch after 300 batches = -58.9033\n",
      " Avg. train loss/batch after 400 batches = -58.6680\n",
      "Train/Val Loss after epoch: -58.6680/-53.4597\n",
      "EPOCH 82:\n",
      " Avg. train loss/batch after 100 batches = -59.4681\n",
      " Avg. train loss/batch after 200 batches = -58.5209\n",
      " Avg. train loss/batch after 300 batches = -59.3266\n",
      " Avg. train loss/batch after 400 batches = -58.3241\n",
      "Train/Val Loss after epoch: -58.3241/-53.7447\n",
      "EPOCH 83:\n",
      " Avg. train loss/batch after 100 batches = -58.3632\n",
      " Avg. train loss/batch after 200 batches = -59.1332\n",
      " Avg. train loss/batch after 300 batches = -59.1383\n",
      " Avg. train loss/batch after 400 batches = -59.0317\n",
      "Train/Val Loss after epoch: -59.0317/-53.6322\n",
      "EPOCH 84:\n",
      " Avg. train loss/batch after 100 batches = -58.8036\n",
      " Avg. train loss/batch after 200 batches = -58.5147\n",
      " Avg. train loss/batch after 300 batches = -59.4237\n",
      " Avg. train loss/batch after 400 batches = -58.9309\n",
      "Train/Val Loss after epoch: -58.9309/-53.7649\n",
      "EPOCH 85:\n",
      " Avg. train loss/batch after 100 batches = -58.7953\n",
      " Avg. train loss/batch after 200 batches = -58.5271\n",
      " Avg. train loss/batch after 300 batches = -59.1328\n",
      " Avg. train loss/batch after 400 batches = -59.2593\n",
      "Train/Val Loss after epoch: -59.2593/-53.7740\n",
      "EPOCH 86:\n",
      " Avg. train loss/batch after 100 batches = -59.0507\n",
      " Avg. train loss/batch after 200 batches = -58.7638\n",
      " Avg. train loss/batch after 300 batches = -59.1063\n",
      " Avg. train loss/batch after 400 batches = -58.7954\n",
      "Train/Val Loss after epoch: -58.7954/-53.5087\n",
      "EPOCH 87:\n",
      " Avg. train loss/batch after 100 batches = -58.5459\n",
      " Avg. train loss/batch after 200 batches = -59.3218\n",
      " Avg. train loss/batch after 300 batches = -58.7220\n",
      " Avg. train loss/batch after 400 batches = -59.1432\n",
      "Train/Val Loss after epoch: -59.1432/-53.7931\n",
      "EPOCH 88:\n",
      " Avg. train loss/batch after 100 batches = -58.6210\n",
      " Avg. train loss/batch after 200 batches = -58.7900\n",
      " Avg. train loss/batch after 300 batches = -58.7071\n",
      " Avg. train loss/batch after 400 batches = -59.7287\n",
      "Train/Val Loss after epoch: -59.7287/-53.6970\n",
      "EPOCH 89:\n",
      " Avg. train loss/batch after 100 batches = -58.6965\n",
      " Avg. train loss/batch after 200 batches = -58.9305\n",
      " Avg. train loss/batch after 300 batches = -59.5840\n",
      " Avg. train loss/batch after 400 batches = -58.6516\n",
      "Train/Val Loss after epoch: -58.6516/-53.7264\n",
      "EPOCH 90:\n",
      " Avg. train loss/batch after 100 batches = -59.2279\n",
      " Avg. train loss/batch after 200 batches = -58.8444\n",
      " Avg. train loss/batch after 300 batches = -59.2973\n",
      " Avg. train loss/batch after 400 batches = -58.5080\n",
      "Train/Val Loss after epoch: -58.5080/-53.7931\n",
      "EPOCH 91:\n",
      " Avg. train loss/batch after 100 batches = -59.3650\n",
      " Avg. train loss/batch after 200 batches = -58.1893\n",
      " Avg. train loss/batch after 300 batches = -59.4366\n",
      " Avg. train loss/batch after 400 batches = -58.9413\n",
      "Train/Val Loss after epoch: -58.9413/-53.6639\n",
      "EPOCH 92:\n",
      " Avg. train loss/batch after 100 batches = -59.0118\n",
      " Avg. train loss/batch after 200 batches = -59.5000\n",
      " Avg. train loss/batch after 300 batches = -57.8581\n",
      " Avg. train loss/batch after 400 batches = -59.5833\n",
      "Train/Val Loss after epoch: -59.5833/-53.7642\n",
      "EPOCH 93:\n",
      " Avg. train loss/batch after 100 batches = -59.2223\n",
      " Avg. train loss/batch after 200 batches = -58.5188\n",
      " Avg. train loss/batch after 300 batches = -59.1097\n",
      " Avg. train loss/batch after 400 batches = -59.1583\n",
      "Train/Val Loss after epoch: -59.1583/-53.7362\n",
      "EPOCH 94:\n",
      " Avg. train loss/batch after 100 batches = -59.2906\n",
      " Avg. train loss/batch after 200 batches = -58.9594\n",
      " Avg. train loss/batch after 300 batches = -58.7880\n"
     ]
    },
    {
     "name": "stdout",
     "output_type": "stream",
     "text": [
      " Avg. train loss/batch after 400 batches = -58.9904\n",
      "Train/Val Loss after epoch: -58.9904/-53.8354\n",
      "EPOCH 95:\n",
      " Avg. train loss/batch after 100 batches = -58.8099\n",
      " Avg. train loss/batch after 200 batches = -58.4568\n",
      " Avg. train loss/batch after 300 batches = -59.7374\n",
      " Avg. train loss/batch after 400 batches = -59.0555\n",
      "Train/Val Loss after epoch: -59.0555/-53.6605\n",
      "EPOCH 96:\n",
      " Avg. train loss/batch after 100 batches = -59.1907\n",
      " Avg. train loss/batch after 200 batches = -58.9774\n",
      " Avg. train loss/batch after 300 batches = -58.9043\n",
      " Avg. train loss/batch after 400 batches = -59.0225\n",
      "Train/Val Loss after epoch: -59.0225/-53.8104\n",
      "EPOCH 97:\n",
      " Avg. train loss/batch after 100 batches = -58.4782\n",
      " Avg. train loss/batch after 200 batches = -59.1985\n",
      " Avg. train loss/batch after 300 batches = -59.4216\n",
      " Avg. train loss/batch after 400 batches = -58.9919\n",
      "Train/Val Loss after epoch: -58.9919/-53.7761\n",
      "EPOCH 98:\n",
      " Avg. train loss/batch after 100 batches = -59.6791\n",
      " Avg. train loss/batch after 200 batches = -58.9975\n",
      " Avg. train loss/batch after 300 batches = -58.6518\n",
      " Avg. train loss/batch after 400 batches = -58.7380\n",
      "Train/Val Loss after epoch: -58.7380/-53.7619\n",
      "EPOCH 99:\n",
      " Avg. train loss/batch after 100 batches = -59.1997\n",
      " Avg. train loss/batch after 200 batches = -59.3708\n",
      " Avg. train loss/batch after 300 batches = -58.8404\n",
      " Avg. train loss/batch after 400 batches = -58.6898\n",
      "Train/Val Loss after epoch: -58.6898/-53.7858\n",
      "EPOCH 100:\n",
      " Avg. train loss/batch after 100 batches = -59.5290\n",
      " Avg. train loss/batch after 200 batches = -58.0924\n",
      " Avg. train loss/batch after 300 batches = -59.2569\n",
      " Avg. train loss/batch after 400 batches = -59.3085\n",
      "Train/Val Loss after epoch: -59.3085/-53.6996\n",
      "CPU times: user 1min 51s, sys: 0 ns, total: 1min 51s\n",
      "Wall time: 1min 51s\n"
     ]
    }
   ],
   "source": [
    "%%time\n",
    "EPOCHS = 100\n",
    "\n",
    "for epoch in range(EPOCHS):\n",
    "    print('EPOCH {}:'.format(epoch_number + 1))\n",
    "    # Gradient tracking\n",
    "    flow.train(True)\n",
    "    avg_train_loss = train_one_epoch(epoch_number, writer)\n",
    "    \n",
    "    # no gradient tracking, for validation\n",
    "    flow.train(False)\n",
    "    avg_val_loss = val_one_epoch(epoch_number, writer)\n",
    "    \n",
    "    print(f\"Train/Val Loss after epoch: {avg_train_loss:.4f}/{avg_val_loss:.4f}\")\n",
    "    epoch_number += 1\n",
    "    scheduler.step()"
   ]
  },
  {
   "cell_type": "markdown",
   "metadata": {},
   "source": [
    "# Check on test data"
   ]
  },
  {
   "cell_type": "code",
   "execution_count": 34,
   "metadata": {},
   "outputs": [],
   "source": [
    "import pandas as pd\n",
    "\n",
    "def cast_as_bilby_result(samples, truth):\n",
    "    injections = dict.fromkeys(injection_parameters)\n",
    "    injections['m'] = float(truth.numpy()[0])\n",
    "    injections['c'] = float(truth.numpy()[1])\n",
    "\n",
    "    posterior = dict.fromkeys(injection_parameters)\n",
    "    samples_numpy = samples.numpy()\n",
    "    posterior['m'] = samples_numpy.T[0].flatten()\n",
    "    posterior['c'] = samples_numpy.T[1].flatten()\n",
    "    posterior = pd.DataFrame(posterior)\n",
    "    \n",
    "    return bilby.result.Result(\n",
    "        label=\"test_data\",\n",
    "        injection_parameters=injections,\n",
    "        posterior=posterior,\n",
    "        search_parameter_keys=list(injections.keys()),\n",
    "        priors=priors\n",
    "    )"
   ]
  },
  {
   "cell_type": "code",
   "execution_count": 35,
   "metadata": {
    "scrolled": false
   },
   "outputs": [
    {
     "data": {
      "image/png": "[encoded data removed]",
      "text/plain": [
       "<Figure size 550x550 with 4 Axes>"
      ]
     },
     "metadata": {},
     "output_type": "display_data"
    }
   ],
   "source": [
    "for idx, (theta_test, data_test) in enumerate(test_data):\n",
    "    if idx == 20: break \n",
    "    with torch.no_grad():\n",
    "        samples = flow.sample(5000, context=data_test.reshape((1, 100)))\n",
    "    #live_plot_bilby_result(cast_as_bilby_result(samples, theta_test))\n",
    "    live_plot_samples(samples, theta_test)\n",
    "    plt.show()"
   ]
  },
  {
   "cell_type": "markdown",
   "metadata": {},
   "source": [
    "# PP plot"
   ]
  },
  {
   "cell_type": "code",
   "execution_count": 36,
   "metadata": {},
   "outputs": [],
   "source": [
    "results = []\n",
    "for idx, (theta_test, data_test) in enumerate(test_data):\n",
    "    with torch.no_grad():\n",
    "        samples = flow.sample(5000, context=data_test.reshape((1, 100)))\n",
    "    results.append(\n",
    "        cast_as_bilby_result(samples, theta_test))"
   ]
  },
  {
   "cell_type": "code",
   "execution_count": 37,
   "metadata": {
    "scrolled": false
   },
   "outputs": [
    {
     "name": "stderr",
     "output_type": "stream",
     "text": [
      "12:32 bilby INFO    : Key: KS-test p-value\n",
      "12:32 bilby INFO    : m: 0.024240947545634328\n",
      "12:32 bilby INFO    : c: 0.17816339237063894\n",
      "12:32 bilby INFO    : Combined p-value: 0.027833975139500297\n"
     ]
    },
    {
     "data": {
      "image/png": "[encoded data removed]",
      "text/plain": [
       "<Figure size 640x480 with 1 Axes>"
      ]
     },
     "metadata": {},
     "output_type": "display_data"
    }
   ],
   "source": [
    "import warnings\n",
    "with warnings.catch_warnings():\n",
    "    warnings.simplefilter('ignore')\n",
    "    bilby.result.make_pp_plot(results, save=False, keys=['m', 'c'])"
   ]
  }
 ],
 "metadata": {
  "kernelspec": {
   "display_name": "Python 3 (ipykernel)",
   "language": "python",
   "name": "python3"
  },
  "language_info": {
   "codemirror_mode": {
    "name": "ipython",
    "version": 3
   },
   "file_extension": ".py",
   "mimetype": "text/x-python",
   "name": "python",
   "nbconvert_exporter": "python",
   "pygments_lexer": "ipython3",
   "version": "3.9.13"
  }
 },
 "nbformat": 4,
 "nbformat_minor": 2
}
