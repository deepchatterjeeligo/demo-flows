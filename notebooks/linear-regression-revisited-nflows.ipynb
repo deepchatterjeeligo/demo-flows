{
 "cells": [
  {
   "cell_type": "code",
   "execution_count": 1,
   "metadata": {},
   "outputs": [],
   "source": [
    "import numpy as np\n",
    "from scipy.special import gamma\n",
    "\n",
    "import matplotlib.pyplot as plt"
   ]
  },
  {
   "cell_type": "code",
   "execution_count": 2,
   "metadata": {},
   "outputs": [],
   "source": [
    "def linear_model(x, m, c):\n",
    "    return m*x + c"
   ]
  },
  {
   "cell_type": "markdown",
   "metadata": {},
   "source": [
    "### Generate data with Gaussian noise\n",
    "\n",
    "\\begin{align}\n",
    "y = f(x) + n\n",
    "\\end{align}\n",
    "\n",
    "Fetch some $\\{y_i, x_i\\}$. $n$ is a Gaussian."
   ]
  },
  {
   "cell_type": "code",
   "execution_count": 3,
   "metadata": {},
   "outputs": [],
   "source": [
    "injection_parameters = dict(m=0.8, c=2)"
   ]
  },
  {
   "cell_type": "code",
   "execution_count": 4,
   "metadata": {},
   "outputs": [],
   "source": [
    "num_points = 100\n",
    "x = np.linspace(-4, 4, num_points)"
   ]
  },
  {
   "cell_type": "code",
   "execution_count": 5,
   "metadata": {},
   "outputs": [],
   "source": [
    "sigma = 0.6"
   ]
  },
  {
   "cell_type": "code",
   "execution_count": 6,
   "metadata": {},
   "outputs": [],
   "source": [
    "data = linear_model(x, **injection_parameters) + np.random.normal(0, sigma, x.size)"
   ]
  },
  {
   "cell_type": "code",
   "execution_count": 7,
   "metadata": {},
   "outputs": [
    {
     "data": {
      "text/plain": [
       "Text(0, 0.5, 'y')"
      ]
     },
     "execution_count": 7,
     "metadata": {},
     "output_type": "execute_result"
    },
    {
     "data": {
      "image/png": "[encoded data removed]",
      "text/plain": [
       "<Figure size 640x480 with 1 Axes>"
      ]
     },
     "metadata": {},
     "output_type": "display_data"
    }
   ],
   "source": [
    "fig, ax = plt.subplots()\n",
    "ax.plot(x, data, 'o', label='$\\\\{x_i, y_i\\\\}$')\n",
    "ax.plot(x, linear_model(x, **injection_parameters), '--r', label='f(x)')\n",
    "ax.legend()\n",
    "ax.set_xlabel('x')\n",
    "ax.set_ylabel('y')"
   ]
  },
  {
   "cell_type": "code",
   "execution_count": 8,
   "metadata": {},
   "outputs": [],
   "source": [
    "import bilby\n",
    "from bilby.core.likelihood import GaussianLikelihood\n",
    "from bilby.core.prior import Uniform, DeltaFunction"
   ]
  },
  {
   "cell_type": "code",
   "execution_count": 9,
   "metadata": {},
   "outputs": [],
   "source": [
    "priors = dict()\n",
    "\n",
    "priors['m'] = Uniform(-3, 3, name='m', latex_label='m')\n",
    "priors['c'] = Uniform(-3, 3, name='c', latex_label='c')"
   ]
  },
  {
   "cell_type": "code",
   "execution_count": 10,
   "metadata": {},
   "outputs": [],
   "source": [
    "log_l = GaussianLikelihood(x, data, linear_model, sigma=sigma)"
   ]
  },
  {
   "cell_type": "code",
   "execution_count": null,
   "metadata": {},
   "outputs": [],
   "source": [
    "result = bilby.run_sampler(\n",
    "    likelihood=log_l, priors=priors, sampler='dynesty',\n",
    "    nlive=300, npool=4, save=False, clean=True,\n",
    "    injection_parameters=injection_parameters,\n",
    "    outdir='./linear_regression',\n",
    "    label='linear_regression'\n",
    ")"
   ]
  },
  {
   "cell_type": "code",
   "execution_count": null,
   "metadata": {
    "scrolled": false
   },
   "outputs": [],
   "source": [
    "result.plot_corner(priors=True, quantiles=(0.16, 0.84))"
   ]
  },
  {
   "cell_type": "code",
   "execution_count": null,
   "metadata": {},
   "outputs": [],
   "source": [
    "print(\"Expected width of m = {:.2f}\".format(sigma/np.sqrt(np.sum((x)**2))))"
   ]
  },
  {
   "cell_type": "code",
   "execution_count": null,
   "metadata": {},
   "outputs": [],
   "source": [
    "print(\"Expected width of c = {:.2f}\".format(sigma * np.sqrt(1/num_points)))"
   ]
  },
  {
   "cell_type": "markdown",
   "metadata": {},
   "source": [
    "# Same problem by training a normalizing flow"
   ]
  },
  {
   "cell_type": "code",
   "execution_count": 11,
   "metadata": {},
   "outputs": [],
   "source": [
    "from IPython.display import clear_output\n",
    "from time import sleep\n",
    "\n",
    "def live_plot_samples(samples, truth):\n",
    "    clear_output(wait=True)\n",
    "    sleep(1)\n",
    "    figure = corner.corner(\n",
    "        samples.numpy(), quantiles=[0.16, 0.5, 0.84],\n",
    "        show_titles=True, labels=[\"m\", \"c\"],\n",
    "        truth=truth\n",
    "    )\n",
    "\n",
    "    corner.overplot_lines(figure, truth, color=\"C1\")\n",
    "    corner.overplot_points(figure, truth[None], marker=\"s\", color=\"C1\")\n",
    "\n",
    "\n",
    "def live_plot_bilby_result(result, **kwargs):\n",
    "    clear_output(wait=True)\n",
    "    sleep(1)\n",
    "    result.plot_corner(priors=True)"
   ]
  },
  {
   "cell_type": "code",
   "execution_count": 12,
   "metadata": {},
   "outputs": [],
   "source": [
    "def get_data(m=None, c=None, num_points=1):\n",
    "    \"\"\"Sample m, c and return a batch of data with noise\"\"\"\n",
    "    m = priors['m'].sample() if m is None else m\n",
    "    c = priors['c'].sample() if c is None else c\n",
    "    #x = 8 * (np.random.uniform(size=num_points) - 0.5)\n",
    "    x = np.linspace(-4, 4, num_points)\n",
    "    y = m*x + c\n",
    "    y += sigma*np.random.normal(size=x.size)\n",
    "\n",
    "    return x, y, m, c"
   ]
  },
  {
   "cell_type": "markdown",
   "metadata": {},
   "source": [
    "# Generate simulations"
   ]
  },
  {
   "cell_type": "code",
   "execution_count": 13,
   "metadata": {},
   "outputs": [],
   "source": [
    "from torch.utils.data import Dataset, DataLoader"
   ]
  },
  {
   "cell_type": "code",
   "execution_count": 14,
   "metadata": {},
   "outputs": [],
   "source": [
    "import torch\n",
    "import torch.nn.functional as F\n",
    "from torch import nn, optim\n",
    "from torch.utils.tensorboard import SummaryWriter"
   ]
  },
  {
   "cell_type": "code",
   "execution_count": 15,
   "metadata": {},
   "outputs": [],
   "source": [
    "num_simulations = 10000\n",
    "theta_vals = []\n",
    "data_vals = []\n",
    "for ii in range(num_simulations):\n",
    "    x_val, y_val, m_val, c_val = get_data(num_points=100)\n",
    "    data_vals.append(y_val)\n",
    "    theta_vals.append([m_val, c_val])"
   ]
  },
  {
   "cell_type": "code",
   "execution_count": 16,
   "metadata": {},
   "outputs": [],
   "source": [
    "theta_vals = torch.from_numpy(np.array(theta_vals)).to(torch.float32)\n",
    "data_vals = torch.from_numpy(np.array(data_vals)).to(torch.float32)"
   ]
  },
  {
   "cell_type": "code",
   "execution_count": 17,
   "metadata": {
    "scrolled": true
   },
   "outputs": [],
   "source": [
    "class DataGenerator(Dataset):\n",
    "    def __len__(self):\n",
    "        return num_simulations\n",
    "\n",
    "    def __getitem__(self, idx):\n",
    "        if torch.is_tensor(idx):\n",
    "            idx = idx.tolist()\n",
    "\n",
    "        return theta_vals[idx], data_vals[idx]"
   ]
  },
  {
   "cell_type": "code",
   "execution_count": 18,
   "metadata": {},
   "outputs": [],
   "source": [
    "dataset = DataGenerator()"
   ]
  },
  {
   "cell_type": "code",
   "execution_count": 19,
   "metadata": {},
   "outputs": [],
   "source": [
    "train_set_size = int(0.8 * num_simulations)\n",
    "val_set_size = int(0.1 * num_simulations)\n",
    "test_set_size = int(0.1 * num_simulations)\n",
    "\n",
    "train_data, val_data, test_data = torch.utils.data.random_split(\n",
    "    dataset, [train_set_size, val_set_size, test_set_size])"
   ]
  },
  {
   "cell_type": "code",
   "execution_count": 20,
   "metadata": {},
   "outputs": [],
   "source": [
    "train_data_loader = DataLoader(\n",
    "    train_data, batch_size=20,\n",
    "    shuffle=True\n",
    ")\n",
    "\n",
    "val_data_loader = DataLoader(\n",
    "    val_data, batch_size=20,\n",
    "    shuffle=True\n",
    ")\n",
    "\n",
    "test_data_loader = DataLoader(\n",
    "    test_data, batch_size=1,\n",
    "    shuffle=False\n",
    ")"
   ]
  },
  {
   "cell_type": "code",
   "execution_count": 21,
   "metadata": {},
   "outputs": [],
   "source": [
    "for theta, data in train_data_loader:\n",
    "    break"
   ]
  },
  {
   "cell_type": "code",
   "execution_count": 22,
   "metadata": {},
   "outputs": [
    {
     "data": {
      "text/plain": [
       "(torch.Size([20, 2]), torch.Size([20, 100]))"
      ]
     },
     "execution_count": 22,
     "metadata": {},
     "output_type": "execute_result"
    }
   ],
   "source": [
    "theta.shape, data.shape"
   ]
  },
  {
   "cell_type": "markdown",
   "metadata": {},
   "source": [
    "# MAF with std normal"
   ]
  },
  {
   "cell_type": "code",
   "execution_count": 23,
   "metadata": {},
   "outputs": [],
   "source": [
    "import corner\n",
    "\n",
    "from nflows.distributions import StandardNormal, ConditionalDiagonalNormal\n",
    "from nflows.flows import Flow\n",
    "from nflows.transforms.autoregressive import MaskedAffineAutoregressiveTransform\n",
    "from nflows.transforms import AffineTransform, CompositeTransform, ReversePermutation, RandomPermutation\n",
    "\n",
    "from nflows.transforms import IdentityTransform\n",
    "\n",
    "import nflows.utils as torchutils"
   ]
  },
  {
   "cell_type": "code",
   "execution_count": 65,
   "metadata": {},
   "outputs": [],
   "source": [
    "num_transforms = 5\n",
    "num_blocks = 2\n",
    "hidden_features = 50\n",
    "\n",
    "class EmbeddingNet(nn.Module):\n",
    "    def __init__(self):\n",
    "        super().__init__()\n",
    "        self.net = nn.Sequential(\n",
    "            nn.Linear(100, 20),\n",
    "            nn.ReLU(),\n",
    "            nn.Linear(20, 20),\n",
    "            nn.ReLU(),\n",
    "            nn.Linear(20, 8),\n",
    "        )\n",
    "    def forward(self, x):\n",
    "        return self.net(x)\n",
    "\n",
    "embedding_net = EmbeddingNet()\n",
    "\n",
    "context_features = embedding_net(data[:1])[0].numel()\n",
    "\n",
    "base_dist = ConditionalDiagonalNormal([theta[0].numel(), 2])\n",
    "\n",
    "transforms = []\n",
    "\n",
    "for _ in range(num_transforms):\n",
    "    block = [\n",
    "        MaskedAffineAutoregressiveTransform(\n",
    "                features=4, #theta[0].numel(),  # 2-dim posterior\n",
    "                hidden_features=hidden_features,\n",
    "                context_features=context_features,\n",
    "                num_blocks=num_blocks,\n",
    "                activation=torch.tanh,\n",
    "                use_batch_norm=False,\n",
    "                use_residual_blocks=False,\n",
    "        ),\n",
    "        RandomPermutation(features=theta[0].numel())\n",
    "    ]\n",
    "    transforms += block\n",
    "\n",
    "transform = CompositeTransform(transforms)\n",
    "\n",
    "flow = Flow(transform, base_dist, embedding_net)\n",
    "# flow = Flow(transform, base_dist, embedding_net)\n",
    "\n",
    "optimizer = optim.Adam(flow.parameters(), lr=1e-3)\n",
    "# optimizer = optim.SGD(flow.parameters(), lr=1e-4, momentum=0.9)\n",
    "\n",
    "scheduler = optim.lr_scheduler.ExponentialLR(optimizer, gamma=0.99)"
   ]
  },
  {
   "cell_type": "code",
   "execution_count": 66,
   "metadata": {},
   "outputs": [
    {
     "data": {
      "text/plain": [
       "(8, 2)"
      ]
     },
     "execution_count": 66,
     "metadata": {},
     "output_type": "execute_result"
    }
   ],
   "source": [
    "context_features, theta[0].numel()"
   ]
  },
  {
   "cell_type": "code",
   "execution_count": 67,
   "metadata": {},
   "outputs": [
    {
     "data": {
      "text/plain": [
       "torch.Size([20, 8])"
      ]
     },
     "execution_count": 67,
     "metadata": {},
     "output_type": "execute_result"
    }
   ],
   "source": [
    "flow._embedding_net(data).shape"
   ]
  },
  {
   "cell_type": "code",
   "execution_count": 68,
   "metadata": {},
   "outputs": [
    {
     "ename": "RuntimeError",
     "evalue": "mat1 and mat2 shapes cannot be multiplied (20x2 and 4x50)",
     "output_type": "error",
     "traceback": [
      "\u001b[0;31m---------------------------------------------------------------------------\u001b[0m",
      "\u001b[0;31mRuntimeError\u001b[0m                              Traceback (most recent call last)",
      "Cell \u001b[0;32mIn[68], line 1\u001b[0m\n\u001b[0;32m----> 1\u001b[0m \u001b[43mflow\u001b[49m\u001b[38;5;241;43m.\u001b[39;49m\u001b[43mlog_prob\u001b[49m\u001b[43m(\u001b[49m\u001b[43mtheta\u001b[49m\u001b[43m,\u001b[49m\u001b[43m \u001b[49m\u001b[43mcontext\u001b[49m\u001b[38;5;241;43m=\u001b[39;49m\u001b[43mdata\u001b[49m\u001b[43m)\u001b[49m\n",
      "File \u001b[0;32m~/miniconda3/envs/mlpe-base/lib/python3.9/site-packages/nflows/distributions/base.py:40\u001b[0m, in \u001b[0;36mDistribution.log_prob\u001b[0;34m(self, inputs, context)\u001b[0m\n\u001b[1;32m     36\u001b[0m     \u001b[38;5;28;01mif\u001b[39;00m inputs\u001b[38;5;241m.\u001b[39mshape[\u001b[38;5;241m0\u001b[39m] \u001b[38;5;241m!=\u001b[39m context\u001b[38;5;241m.\u001b[39mshape[\u001b[38;5;241m0\u001b[39m]:\n\u001b[1;32m     37\u001b[0m         \u001b[38;5;28;01mraise\u001b[39;00m \u001b[38;5;167;01mValueError\u001b[39;00m(\n\u001b[1;32m     38\u001b[0m             \u001b[38;5;124m\"\u001b[39m\u001b[38;5;124mNumber of input items must be equal to number of context items.\u001b[39m\u001b[38;5;124m\"\u001b[39m\n\u001b[1;32m     39\u001b[0m         )\n\u001b[0;32m---> 40\u001b[0m \u001b[38;5;28;01mreturn\u001b[39;00m \u001b[38;5;28;43mself\u001b[39;49m\u001b[38;5;241;43m.\u001b[39;49m\u001b[43m_log_prob\u001b[49m\u001b[43m(\u001b[49m\u001b[43minputs\u001b[49m\u001b[43m,\u001b[49m\u001b[43m \u001b[49m\u001b[43mcontext\u001b[49m\u001b[43m)\u001b[49m\n",
      "File \u001b[0;32m~/miniconda3/envs/mlpe-base/lib/python3.9/site-packages/nflows/flows/base.py:39\u001b[0m, in \u001b[0;36mFlow._log_prob\u001b[0;34m(self, inputs, context)\u001b[0m\n\u001b[1;32m     37\u001b[0m \u001b[38;5;28;01mdef\u001b[39;00m \u001b[38;5;21m_log_prob\u001b[39m(\u001b[38;5;28mself\u001b[39m, inputs, context):\n\u001b[1;32m     38\u001b[0m     embedded_context \u001b[38;5;241m=\u001b[39m \u001b[38;5;28mself\u001b[39m\u001b[38;5;241m.\u001b[39m_embedding_net(context)\n\u001b[0;32m---> 39\u001b[0m     noise, logabsdet \u001b[38;5;241m=\u001b[39m \u001b[38;5;28;43mself\u001b[39;49m\u001b[38;5;241;43m.\u001b[39;49m\u001b[43m_transform\u001b[49m\u001b[43m(\u001b[49m\u001b[43minputs\u001b[49m\u001b[43m,\u001b[49m\u001b[43m \u001b[49m\u001b[43mcontext\u001b[49m\u001b[38;5;241;43m=\u001b[39;49m\u001b[43membedded_context\u001b[49m\u001b[43m)\u001b[49m\n\u001b[1;32m     40\u001b[0m     log_prob \u001b[38;5;241m=\u001b[39m \u001b[38;5;28mself\u001b[39m\u001b[38;5;241m.\u001b[39m_distribution\u001b[38;5;241m.\u001b[39mlog_prob(noise, context\u001b[38;5;241m=\u001b[39membedded_context)\n\u001b[1;32m     41\u001b[0m     \u001b[38;5;28;01mreturn\u001b[39;00m log_prob \u001b[38;5;241m+\u001b[39m logabsdet\n",
      "File \u001b[0;32m~/miniconda3/envs/mlpe-base/lib/python3.9/site-packages/torch/nn/modules/module.py:1194\u001b[0m, in \u001b[0;36mModule._call_impl\u001b[0;34m(self, *input, **kwargs)\u001b[0m\n\u001b[1;32m   1190\u001b[0m \u001b[38;5;66;03m# If we don't have any hooks, we want to skip the rest of the logic in\u001b[39;00m\n\u001b[1;32m   1191\u001b[0m \u001b[38;5;66;03m# this function, and just call forward.\u001b[39;00m\n\u001b[1;32m   1192\u001b[0m \u001b[38;5;28;01mif\u001b[39;00m \u001b[38;5;129;01mnot\u001b[39;00m (\u001b[38;5;28mself\u001b[39m\u001b[38;5;241m.\u001b[39m_backward_hooks \u001b[38;5;129;01mor\u001b[39;00m \u001b[38;5;28mself\u001b[39m\u001b[38;5;241m.\u001b[39m_forward_hooks \u001b[38;5;129;01mor\u001b[39;00m \u001b[38;5;28mself\u001b[39m\u001b[38;5;241m.\u001b[39m_forward_pre_hooks \u001b[38;5;129;01mor\u001b[39;00m _global_backward_hooks\n\u001b[1;32m   1193\u001b[0m         \u001b[38;5;129;01mor\u001b[39;00m _global_forward_hooks \u001b[38;5;129;01mor\u001b[39;00m _global_forward_pre_hooks):\n\u001b[0;32m-> 1194\u001b[0m     \u001b[38;5;28;01mreturn\u001b[39;00m \u001b[43mforward_call\u001b[49m\u001b[43m(\u001b[49m\u001b[38;5;241;43m*\u001b[39;49m\u001b[38;5;28;43minput\u001b[39;49m\u001b[43m,\u001b[49m\u001b[43m \u001b[49m\u001b[38;5;241;43m*\u001b[39;49m\u001b[38;5;241;43m*\u001b[39;49m\u001b[43mkwargs\u001b[49m\u001b[43m)\u001b[49m\n\u001b[1;32m   1195\u001b[0m \u001b[38;5;66;03m# Do not call functions when jit is used\u001b[39;00m\n\u001b[1;32m   1196\u001b[0m full_backward_hooks, non_full_backward_hooks \u001b[38;5;241m=\u001b[39m [], []\n",
      "File \u001b[0;32m~/miniconda3/envs/mlpe-base/lib/python3.9/site-packages/nflows/transforms/base.py:56\u001b[0m, in \u001b[0;36mCompositeTransform.forward\u001b[0;34m(self, inputs, context)\u001b[0m\n\u001b[1;32m     54\u001b[0m \u001b[38;5;28;01mdef\u001b[39;00m \u001b[38;5;21mforward\u001b[39m(\u001b[38;5;28mself\u001b[39m, inputs, context\u001b[38;5;241m=\u001b[39m\u001b[38;5;28;01mNone\u001b[39;00m):\n\u001b[1;32m     55\u001b[0m     funcs \u001b[38;5;241m=\u001b[39m \u001b[38;5;28mself\u001b[39m\u001b[38;5;241m.\u001b[39m_transforms\n\u001b[0;32m---> 56\u001b[0m     \u001b[38;5;28;01mreturn\u001b[39;00m \u001b[38;5;28;43mself\u001b[39;49m\u001b[38;5;241;43m.\u001b[39;49m\u001b[43m_cascade\u001b[49m\u001b[43m(\u001b[49m\u001b[43minputs\u001b[49m\u001b[43m,\u001b[49m\u001b[43m \u001b[49m\u001b[43mfuncs\u001b[49m\u001b[43m,\u001b[49m\u001b[43m \u001b[49m\u001b[43mcontext\u001b[49m\u001b[43m)\u001b[49m\n",
      "File \u001b[0;32m~/miniconda3/envs/mlpe-base/lib/python3.9/site-packages/nflows/transforms/base.py:50\u001b[0m, in \u001b[0;36mCompositeTransform._cascade\u001b[0;34m(inputs, funcs, context)\u001b[0m\n\u001b[1;32m     48\u001b[0m total_logabsdet \u001b[38;5;241m=\u001b[39m inputs\u001b[38;5;241m.\u001b[39mnew_zeros(batch_size)\n\u001b[1;32m     49\u001b[0m \u001b[38;5;28;01mfor\u001b[39;00m func \u001b[38;5;129;01min\u001b[39;00m funcs:\n\u001b[0;32m---> 50\u001b[0m     outputs, logabsdet \u001b[38;5;241m=\u001b[39m \u001b[43mfunc\u001b[49m\u001b[43m(\u001b[49m\u001b[43moutputs\u001b[49m\u001b[43m,\u001b[49m\u001b[43m \u001b[49m\u001b[43mcontext\u001b[49m\u001b[43m)\u001b[49m\n\u001b[1;32m     51\u001b[0m     total_logabsdet \u001b[38;5;241m+\u001b[39m\u001b[38;5;241m=\u001b[39m logabsdet\n\u001b[1;32m     52\u001b[0m \u001b[38;5;28;01mreturn\u001b[39;00m outputs, total_logabsdet\n",
      "File \u001b[0;32m~/miniconda3/envs/mlpe-base/lib/python3.9/site-packages/torch/nn/modules/module.py:1194\u001b[0m, in \u001b[0;36mModule._call_impl\u001b[0;34m(self, *input, **kwargs)\u001b[0m\n\u001b[1;32m   1190\u001b[0m \u001b[38;5;66;03m# If we don't have any hooks, we want to skip the rest of the logic in\u001b[39;00m\n\u001b[1;32m   1191\u001b[0m \u001b[38;5;66;03m# this function, and just call forward.\u001b[39;00m\n\u001b[1;32m   1192\u001b[0m \u001b[38;5;28;01mif\u001b[39;00m \u001b[38;5;129;01mnot\u001b[39;00m (\u001b[38;5;28mself\u001b[39m\u001b[38;5;241m.\u001b[39m_backward_hooks \u001b[38;5;129;01mor\u001b[39;00m \u001b[38;5;28mself\u001b[39m\u001b[38;5;241m.\u001b[39m_forward_hooks \u001b[38;5;129;01mor\u001b[39;00m \u001b[38;5;28mself\u001b[39m\u001b[38;5;241m.\u001b[39m_forward_pre_hooks \u001b[38;5;129;01mor\u001b[39;00m _global_backward_hooks\n\u001b[1;32m   1193\u001b[0m         \u001b[38;5;129;01mor\u001b[39;00m _global_forward_hooks \u001b[38;5;129;01mor\u001b[39;00m _global_forward_pre_hooks):\n\u001b[0;32m-> 1194\u001b[0m     \u001b[38;5;28;01mreturn\u001b[39;00m \u001b[43mforward_call\u001b[49m\u001b[43m(\u001b[49m\u001b[38;5;241;43m*\u001b[39;49m\u001b[38;5;28;43minput\u001b[39;49m\u001b[43m,\u001b[49m\u001b[43m \u001b[49m\u001b[38;5;241;43m*\u001b[39;49m\u001b[38;5;241;43m*\u001b[39;49m\u001b[43mkwargs\u001b[49m\u001b[43m)\u001b[49m\n\u001b[1;32m   1195\u001b[0m \u001b[38;5;66;03m# Do not call functions when jit is used\u001b[39;00m\n\u001b[1;32m   1196\u001b[0m full_backward_hooks, non_full_backward_hooks \u001b[38;5;241m=\u001b[39m [], []\n",
      "File \u001b[0;32m~/miniconda3/envs/mlpe-base/lib/python3.9/site-packages/nflows/transforms/autoregressive.py:38\u001b[0m, in \u001b[0;36mAutoregressiveTransform.forward\u001b[0;34m(self, inputs, context)\u001b[0m\n\u001b[1;32m     37\u001b[0m \u001b[38;5;28;01mdef\u001b[39;00m \u001b[38;5;21mforward\u001b[39m(\u001b[38;5;28mself\u001b[39m, inputs, context\u001b[38;5;241m=\u001b[39m\u001b[38;5;28;01mNone\u001b[39;00m):\n\u001b[0;32m---> 38\u001b[0m     autoregressive_params \u001b[38;5;241m=\u001b[39m \u001b[38;5;28;43mself\u001b[39;49m\u001b[38;5;241;43m.\u001b[39;49m\u001b[43mautoregressive_net\u001b[49m\u001b[43m(\u001b[49m\u001b[43minputs\u001b[49m\u001b[43m,\u001b[49m\u001b[43m \u001b[49m\u001b[43mcontext\u001b[49m\u001b[43m)\u001b[49m\n\u001b[1;32m     39\u001b[0m     outputs, logabsdet \u001b[38;5;241m=\u001b[39m \u001b[38;5;28mself\u001b[39m\u001b[38;5;241m.\u001b[39m_elementwise_forward(inputs, autoregressive_params)\n\u001b[1;32m     40\u001b[0m     \u001b[38;5;28;01mreturn\u001b[39;00m outputs, logabsdet\n",
      "File \u001b[0;32m~/miniconda3/envs/mlpe-base/lib/python3.9/site-packages/torch/nn/modules/module.py:1194\u001b[0m, in \u001b[0;36mModule._call_impl\u001b[0;34m(self, *input, **kwargs)\u001b[0m\n\u001b[1;32m   1190\u001b[0m \u001b[38;5;66;03m# If we don't have any hooks, we want to skip the rest of the logic in\u001b[39;00m\n\u001b[1;32m   1191\u001b[0m \u001b[38;5;66;03m# this function, and just call forward.\u001b[39;00m\n\u001b[1;32m   1192\u001b[0m \u001b[38;5;28;01mif\u001b[39;00m \u001b[38;5;129;01mnot\u001b[39;00m (\u001b[38;5;28mself\u001b[39m\u001b[38;5;241m.\u001b[39m_backward_hooks \u001b[38;5;129;01mor\u001b[39;00m \u001b[38;5;28mself\u001b[39m\u001b[38;5;241m.\u001b[39m_forward_hooks \u001b[38;5;129;01mor\u001b[39;00m \u001b[38;5;28mself\u001b[39m\u001b[38;5;241m.\u001b[39m_forward_pre_hooks \u001b[38;5;129;01mor\u001b[39;00m _global_backward_hooks\n\u001b[1;32m   1193\u001b[0m         \u001b[38;5;129;01mor\u001b[39;00m _global_forward_hooks \u001b[38;5;129;01mor\u001b[39;00m _global_forward_pre_hooks):\n\u001b[0;32m-> 1194\u001b[0m     \u001b[38;5;28;01mreturn\u001b[39;00m \u001b[43mforward_call\u001b[49m\u001b[43m(\u001b[49m\u001b[38;5;241;43m*\u001b[39;49m\u001b[38;5;28;43minput\u001b[39;49m\u001b[43m,\u001b[49m\u001b[43m \u001b[49m\u001b[38;5;241;43m*\u001b[39;49m\u001b[38;5;241;43m*\u001b[39;49m\u001b[43mkwargs\u001b[49m\u001b[43m)\u001b[49m\n\u001b[1;32m   1195\u001b[0m \u001b[38;5;66;03m# Do not call functions when jit is used\u001b[39;00m\n\u001b[1;32m   1196\u001b[0m full_backward_hooks, non_full_backward_hooks \u001b[38;5;241m=\u001b[39m [], []\n",
      "File \u001b[0;32m~/miniconda3/envs/mlpe-base/lib/python3.9/site-packages/nflows/transforms/made.py:275\u001b[0m, in \u001b[0;36mMADE.forward\u001b[0;34m(self, inputs, context)\u001b[0m\n\u001b[1;32m    274\u001b[0m \u001b[38;5;28;01mdef\u001b[39;00m \u001b[38;5;21mforward\u001b[39m(\u001b[38;5;28mself\u001b[39m, inputs, context\u001b[38;5;241m=\u001b[39m\u001b[38;5;28;01mNone\u001b[39;00m):\n\u001b[0;32m--> 275\u001b[0m     temps \u001b[38;5;241m=\u001b[39m \u001b[38;5;28;43mself\u001b[39;49m\u001b[38;5;241;43m.\u001b[39;49m\u001b[43minitial_layer\u001b[49m\u001b[43m(\u001b[49m\u001b[43minputs\u001b[49m\u001b[43m)\u001b[49m\n\u001b[1;32m    276\u001b[0m     \u001b[38;5;28;01mif\u001b[39;00m context \u001b[38;5;129;01mis\u001b[39;00m \u001b[38;5;129;01mnot\u001b[39;00m \u001b[38;5;28;01mNone\u001b[39;00m:\n\u001b[1;32m    277\u001b[0m         temps \u001b[38;5;241m+\u001b[39m\u001b[38;5;241m=\u001b[39m \u001b[38;5;28mself\u001b[39m\u001b[38;5;241m.\u001b[39mactivation(\u001b[38;5;28mself\u001b[39m\u001b[38;5;241m.\u001b[39mcontext_layer(context))\n",
      "File \u001b[0;32m~/miniconda3/envs/mlpe-base/lib/python3.9/site-packages/torch/nn/modules/module.py:1194\u001b[0m, in \u001b[0;36mModule._call_impl\u001b[0;34m(self, *input, **kwargs)\u001b[0m\n\u001b[1;32m   1190\u001b[0m \u001b[38;5;66;03m# If we don't have any hooks, we want to skip the rest of the logic in\u001b[39;00m\n\u001b[1;32m   1191\u001b[0m \u001b[38;5;66;03m# this function, and just call forward.\u001b[39;00m\n\u001b[1;32m   1192\u001b[0m \u001b[38;5;28;01mif\u001b[39;00m \u001b[38;5;129;01mnot\u001b[39;00m (\u001b[38;5;28mself\u001b[39m\u001b[38;5;241m.\u001b[39m_backward_hooks \u001b[38;5;129;01mor\u001b[39;00m \u001b[38;5;28mself\u001b[39m\u001b[38;5;241m.\u001b[39m_forward_hooks \u001b[38;5;129;01mor\u001b[39;00m \u001b[38;5;28mself\u001b[39m\u001b[38;5;241m.\u001b[39m_forward_pre_hooks \u001b[38;5;129;01mor\u001b[39;00m _global_backward_hooks\n\u001b[1;32m   1193\u001b[0m         \u001b[38;5;129;01mor\u001b[39;00m _global_forward_hooks \u001b[38;5;129;01mor\u001b[39;00m _global_forward_pre_hooks):\n\u001b[0;32m-> 1194\u001b[0m     \u001b[38;5;28;01mreturn\u001b[39;00m \u001b[43mforward_call\u001b[49m\u001b[43m(\u001b[49m\u001b[38;5;241;43m*\u001b[39;49m\u001b[38;5;28;43minput\u001b[39;49m\u001b[43m,\u001b[49m\u001b[43m \u001b[49m\u001b[38;5;241;43m*\u001b[39;49m\u001b[38;5;241;43m*\u001b[39;49m\u001b[43mkwargs\u001b[49m\u001b[43m)\u001b[49m\n\u001b[1;32m   1195\u001b[0m \u001b[38;5;66;03m# Do not call functions when jit is used\u001b[39;00m\n\u001b[1;32m   1196\u001b[0m full_backward_hooks, non_full_backward_hooks \u001b[38;5;241m=\u001b[39m [], []\n",
      "File \u001b[0;32m~/miniconda3/envs/mlpe-base/lib/python3.9/site-packages/nflows/transforms/made.py:72\u001b[0m, in \u001b[0;36mMaskedLinear.forward\u001b[0;34m(self, x)\u001b[0m\n\u001b[1;32m     71\u001b[0m \u001b[38;5;28;01mdef\u001b[39;00m \u001b[38;5;21mforward\u001b[39m(\u001b[38;5;28mself\u001b[39m, x):\n\u001b[0;32m---> 72\u001b[0m     \u001b[38;5;28;01mreturn\u001b[39;00m \u001b[43mF\u001b[49m\u001b[38;5;241;43m.\u001b[39;49m\u001b[43mlinear\u001b[49m\u001b[43m(\u001b[49m\u001b[43mx\u001b[49m\u001b[43m,\u001b[49m\u001b[43m \u001b[49m\u001b[38;5;28;43mself\u001b[39;49m\u001b[38;5;241;43m.\u001b[39;49m\u001b[43mweight\u001b[49m\u001b[43m \u001b[49m\u001b[38;5;241;43m*\u001b[39;49m\u001b[43m \u001b[49m\u001b[38;5;28;43mself\u001b[39;49m\u001b[38;5;241;43m.\u001b[39;49m\u001b[43mmask\u001b[49m\u001b[43m,\u001b[49m\u001b[43m \u001b[49m\u001b[38;5;28;43mself\u001b[39;49m\u001b[38;5;241;43m.\u001b[39;49m\u001b[43mbias\u001b[49m\u001b[43m)\u001b[49m\n",
      "\u001b[0;31mRuntimeError\u001b[0m: mat1 and mat2 shapes cannot be multiplied (20x2 and 4x50)"
     ]
    }
   ],
   "source": [
    "flow.log_prob(theta, context=data)"
   ]
  },
  {
   "cell_type": "markdown",
   "metadata": {},
   "source": [
    "# Train/Validate"
   ]
  },
  {
   "cell_type": "code",
   "execution_count": 28,
   "metadata": {},
   "outputs": [],
   "source": [
    "def train_one_epoch(epoch_index, tb_writer):\n",
    "    running_loss = 0.\n",
    "    last_loss = 0.\n",
    "\n",
    "    for idx, val in enumerate(train_data_loader, 1):\n",
    "        theta, data = val\n",
    "        \n",
    "        optimizer.zero_grad()\n",
    "        loss = -flow.log_prob(theta, context=data).mean()\n",
    "        loss.backward()\n",
    "        optimizer.step()\n",
    "        # Gather data and report\n",
    "        running_loss += loss.item()\n",
    "        if idx % 100 == 0:\n",
    "            last_loss = running_loss / 100 # avg loss per batch after 1000 batches\n",
    "            print(' Avg. train loss/batch after {} batches = {:.4f}'.format(idx, last_loss))\n",
    "            tb_x = epoch_index * len(train_data_loader) + idx\n",
    "            tb_writer.add_scalar('Loss/train', last_loss, tb_x)\n",
    "            tb_writer.flush()\n",
    "            running_loss = 0.\n",
    "    return last_loss../../libs/architectures/mlpe/architectures/flows/flow.py\n",
    "\n",
    "\n",
    "def val_one_epoch(epoch_index, tb_writer):\n",
    "    running_loss = 0.\n",
    "    last_loss = 0.\n",
    "\n",
    "    for idx, val in enumerate(val_data_loader, 1):\n",
    "        theta_val, data_val = val\n",
    "\n",
    "        loss = -flow.log_prob(theta_val, context=data_val).mean()\n",
    "        running_loss += loss.item()\n",
    "\n",
    "        if idx % 50 == 0:\n",
    "            last_loss = running_loss / 50\n",
    "            tb_x = epoch_index * len(val_data_loader) + idx + 1\n",
    "            tb_writer.add_scalar('Loss/val', last_loss, tb_x)\n",
    "            tb_writer.flush()\n",
    "            running_loss = 0.\n",
    "    tb_writer.flush()\n",
    "    return last_loss"
   ]
  },
  {
   "cell_type": "code",
   "execution_count": 29,
   "metadata": {
    "scrolled": true
   },
   "outputs": [
    {
     "data": {
      "text/plain": [
       "Flow(\n",
       "  (_transform): CompositeTransform(\n",
       "    (_transforms): ModuleList(\n",
       "      (0): MaskedAffineAutoregressiveTransform(\n",
       "        (autoregressive_net): MADE(\n",
       "          (initial_layer): MaskedLinear(in_features=2, out_features=50, bias=True)\n",
       "          (context_layer): Linear(in_features=4, out_features=50, bias=True)\n",
       "          (blocks): ModuleList(\n",
       "            (0): MaskedFeedforwardBlock(\n",
       "              (linear): MaskedLinear(in_features=50, out_features=50, bias=True)\n",
       "              (dropout): Dropout(p=0.0, inplace=False)\n",
       "            )\n",
       "            (1): MaskedFeedforwardBlock(\n",
       "              (linear): MaskedLinear(in_features=50, out_features=50, bias=True)\n",
       "              (dropout): Dropout(p=0.0, inplace=False)\n",
       "            )\n",
       "          )\n",
       "          (final_layer): MaskedLinear(in_features=50, out_features=4, bias=True)\n",
       "        )\n",
       "      )\n",
       "      (1): RandomPermutation()\n",
       "      (2): MaskedAffineAutoregressiveTransform(\n",
       "        (autoregressive_net): MADE(\n",
       "          (initial_layer): MaskedLinear(in_features=2, out_features=50, bias=True)\n",
       "          (context_layer): Linear(in_features=4, out_features=50, bias=True)\n",
       "          (blocks): ModuleList(\n",
       "            (0): MaskedFeedforwardBlock(\n",
       "              (linear): MaskedLinear(in_features=50, out_features=50, bias=True)\n",
       "              (dropout): Dropout(p=0.0, inplace=False)\n",
       "            )\n",
       "            (1): MaskedFeedforwardBlock(\n",
       "              (linear): MaskedLinear(in_features=50, out_features=50, bias=True)\n",
       "              (dropout): Dropout(p=0.0, inplace=False)\n",
       "            )\n",
       "          )\n",
       "          (final_layer): MaskedLinear(in_features=50, out_features=4, bias=True)\n",
       "        )\n",
       "      )\n",
       "      (3): RandomPermutation()\n",
       "      (4): MaskedAffineAutoregressiveTransform(\n",
       "        (autoregressive_net): MADE(\n",
       "          (initial_layer): MaskedLinear(in_features=2, out_features=50, bias=True)\n",
       "          (context_layer): Linear(in_features=4, out_features=50, bias=True)\n",
       "          (blocks): ModuleList(\n",
       "            (0): MaskedFeedforwardBlock(\n",
       "              (linear): MaskedLinear(in_features=50, out_features=50, bias=True)\n",
       "              (dropout): Dropout(p=0.0, inplace=False)\n",
       "            )\n",
       "            (1): MaskedFeedforwardBlock(\n",
       "              (linear): MaskedLinear(in_features=50, out_features=50, bias=True)\n",
       "              (dropout): Dropout(p=0.0, inplace=False)\n",
       "            )\n",
       "          )\n",
       "          (final_layer): MaskedLinear(in_features=50, out_features=4, bias=True)\n",
       "        )\n",
       "      )\n",
       "      (5): RandomPermutation()\n",
       "      (6): MaskedAffineAutoregressiveTransform(\n",
       "        (autoregressive_net): MADE(\n",
       "          (initial_layer): MaskedLinear(in_features=2, out_features=50, bias=True)\n",
       "          (context_layer): Linear(in_features=4, out_features=50, bias=True)\n",
       "          (blocks): ModuleList(\n",
       "            (0): MaskedFeedforwardBlock(\n",
       "              (linear): MaskedLinear(in_features=50, out_features=50, bias=True)\n",
       "              (dropout): Dropout(p=0.0, inplace=False)\n",
       "            )\n",
       "            (1): MaskedFeedforwardBlock(\n",
       "              (linear): MaskedLinear(in_features=50, out_features=50, bias=True)\n",
       "              (dropout): Dropout(p=0.0, inplace=False)\n",
       "            )\n",
       "          )\n",
       "          (final_layer): MaskedLinear(in_features=50, out_features=4, bias=True)\n",
       "        )\n",
       "      )\n",
       "      (7): RandomPermutation()\n",
       "      (8): MaskedAffineAutoregressiveTransform(\n",
       "        (autoregressive_net): MADE(\n",
       "          (initial_layer): MaskedLinear(in_features=2, out_features=50, bias=True)\n",
       "          (context_layer): Linear(in_features=4, out_features=50, bias=True)\n",
       "          (blocks): ModuleList(\n",
       "            (0): MaskedFeedforwardBlock(\n",
       "              (linear): MaskedLinear(in_features=50, out_features=50, bias=True)\n",
       "              (dropout): Dropout(p=0.0, inplace=False)\n",
       "            )\n",
       "            (1): MaskedFeedforwardBlock(\n",
       "              (linear): MaskedLinear(in_features=50, out_features=50, bias=True)\n",
       "              (dropout): Dropout(p=0.0, inplace=False)\n",
       "            )\n",
       "          )\n",
       "          (final_layer): MaskedLinear(in_features=50, out_features=4, bias=True)\n",
       "        )\n",
       "      )\n",
       "      (9): RandomPermutation()\n",
       "    )\n",
       "  )\n",
       "  (_distribution): ConditionalDiagonalNormal()\n",
       "  (_embedding_net): EmbeddingNet(\n",
       "    (net): Sequential(\n",
       "      (0): Linear(in_features=100, out_features=20, bias=True)\n",
       "      (1): ReLU()\n",
       "      (2): Linear(in_features=20, out_features=20, bias=True)\n",
       "      (3): ReLU()\n",
       "      (4): Linear(in_features=20, out_features=4, bias=True)\n",
       "    )\n",
       "  )\n",
       ")"
      ]
     },
     "execution_count": 29,
     "metadata": {},
     "output_type": "execute_result"
    }
   ],
   "source": [
    "flow"
   ]
  },
  {
   "cell_type": "code",
   "execution_count": 30,
   "metadata": {},
   "outputs": [],
   "source": [
    "writer = SummaryWriter(\"linear_regression_again\", comment=\"With LR=1e-4\", flush_secs=5)\n",
    "epoch_number = 0"
   ]
  },
  {
   "cell_type": "code",
   "execution_count": 31,
   "metadata": {
    "scrolled": true
   },
   "outputs": [
    {
     "name": "stdout",
     "output_type": "stream",
     "text": [
      "EPOCH 1:\n",
      " Avg. train loss/batch after 100 batches = 43.4071\n",
      " Avg. train loss/batch after 200 batches = 11.1752\n",
      " Avg. train loss/batch after 300 batches = -2.5520\n",
      " Avg. train loss/batch after 400 batches = -8.5410\n",
      "Train/Val Loss after epoch: -8.5410/-17.0895\n",
      "EPOCH 2:\n",
      " Avg. train loss/batch after 100 batches = -18.2918\n",
      " Avg. train loss/batch after 200 batches = -23.0590\n",
      " Avg. train loss/batch after 300 batches = -24.8025\n",
      " Avg. train loss/batch after 400 batches = -23.8844\n",
      "Train/Val Loss after epoch: -23.8844/-35.8807\n",
      "EPOCH 3:\n",
      " Avg. train loss/batch after 100 batches = -27.8060\n",
      " Avg. train loss/batch after 200 batches = -35.2146\n",
      " Avg. train loss/batch after 300 batches = -31.8527\n",
      " Avg. train loss/batch after 400 batches = -34.9929\n",
      "Train/Val Loss after epoch: -34.9929/-41.4182\n",
      "EPOCH 4:\n",
      " Avg. train loss/batch after 100 batches = -33.2551\n",
      " Avg. train loss/batch after 200 batches = -37.8414\n",
      " Avg. train loss/batch after 300 batches = -41.1895\n",
      " Avg. train loss/batch after 400 batches = -40.3240\n",
      "Train/Val Loss after epoch: -40.3240/-40.2302\n",
      "EPOCH 5:\n",
      " Avg. train loss/batch after 100 batches = -42.8520\n",
      " Avg. train loss/batch after 200 batches = -44.3655\n",
      " Avg. train loss/batch after 300 batches = -42.6647\n",
      " Avg. train loss/batch after 400 batches = -43.7524\n",
      "Train/Val Loss after epoch: -43.7524/-43.8144\n",
      "EPOCH 6:\n",
      " Avg. train loss/batch after 100 batches = -46.9893\n",
      " Avg. train loss/batch after 200 batches = -45.9558\n",
      " Avg. train loss/batch after 300 batches = -46.9863\n",
      " Avg. train loss/batch after 400 batches = -48.7805\n",
      "Train/Val Loss after epoch: -48.7805/-47.8616\n",
      "EPOCH 7:\n",
      " Avg. train loss/batch after 100 batches = -50.2569\n",
      " Avg. train loss/batch after 200 batches = -50.5957\n",
      " Avg. train loss/batch after 300 batches = -48.3965\n",
      " Avg. train loss/batch after 400 batches = -44.1914\n",
      "Train/Val Loss after epoch: -44.1914/-52.1970\n",
      "EPOCH 8:\n",
      " Avg. train loss/batch after 100 batches = -49.8697\n",
      " Avg. train loss/batch after 200 batches = -46.4241\n",
      " Avg. train loss/batch after 300 batches = -49.2117\n",
      " Avg. train loss/batch after 400 batches = -51.5341\n",
      "Train/Val Loss after epoch: -51.5341/-51.3864\n",
      "EPOCH 9:\n",
      " Avg. train loss/batch after 100 batches = -53.6416\n",
      " Avg. train loss/batch after 200 batches = -55.4413\n",
      " Avg. train loss/batch after 300 batches = -51.4452\n",
      " Avg. train loss/batch after 400 batches = -51.5767\n",
      "Train/Val Loss after epoch: -51.5767/-52.3030\n",
      "EPOCH 10:\n",
      " Avg. train loss/batch after 100 batches = -55.3088\n",
      " Avg. train loss/batch after 200 batches = -54.1188\n",
      " Avg. train loss/batch after 300 batches = -53.9881\n",
      " Avg. train loss/batch after 400 batches = -53.1029\n",
      "Train/Val Loss after epoch: -53.1029/-44.9166\n",
      "EPOCH 11:\n",
      " Avg. train loss/batch after 100 batches = -55.3031\n",
      " Avg. train loss/batch after 200 batches = -57.3304\n",
      " Avg. train loss/batch after 300 batches = -56.7701\n",
      " Avg. train loss/batch after 400 batches = -58.3336\n",
      "Train/Val Loss after epoch: -58.3336/-52.8343\n",
      "EPOCH 12:\n",
      " Avg. train loss/batch after 100 batches = -57.7782\n",
      " Avg. train loss/batch after 200 batches = -58.3740\n",
      " Avg. train loss/batch after 300 batches = -55.0250\n",
      " Avg. train loss/batch after 400 batches = -57.7985\n",
      "Train/Val Loss after epoch: -57.7985/-58.2802\n",
      "EPOCH 13:\n",
      " Avg. train loss/batch after 100 batches = -58.2251\n",
      " Avg. train loss/batch after 200 batches = -57.7256\n",
      " Avg. train loss/batch after 300 batches = -59.4990\n",
      " Avg. train loss/batch after 400 batches = -60.0228\n",
      "Train/Val Loss after epoch: -60.0228/-58.3639\n",
      "EPOCH 14:\n",
      " Avg. train loss/batch after 100 batches = -60.0591\n",
      " Avg. train loss/batch after 200 batches = -58.6348\n",
      " Avg. train loss/batch after 300 batches = -61.2515\n",
      " Avg. train loss/batch after 400 batches = -58.1248\n",
      "Train/Val Loss after epoch: -58.1248/-55.6593\n",
      "EPOCH 15:\n",
      " Avg. train loss/batch after 100 batches = -60.4965\n",
      " Avg. train loss/batch after 200 batches = -60.0216\n",
      " Avg. train loss/batch after 300 batches = -60.2602\n",
      " Avg. train loss/batch after 400 batches = -61.8299\n",
      "Train/Val Loss after epoch: -61.8299/-63.4897\n",
      "EPOCH 16:\n",
      " Avg. train loss/batch after 100 batches = -61.1766\n",
      " Avg. train loss/batch after 200 batches = -63.8007\n",
      " Avg. train loss/batch after 300 batches = -61.0097\n",
      " Avg. train loss/batch after 400 batches = -62.7644\n",
      "Train/Val Loss after epoch: -62.7644/-61.9789\n",
      "EPOCH 17:\n",
      " Avg. train loss/batch after 100 batches = -61.8689\n",
      " Avg. train loss/batch after 200 batches = -62.0174\n",
      " Avg. train loss/batch after 300 batches = -56.9910\n",
      " Avg. train loss/batch after 400 batches = -61.6634\n",
      "Train/Val Loss after epoch: -61.6634/-64.8548\n",
      "EPOCH 18:\n",
      " Avg. train loss/batch after 100 batches = -63.2661\n",
      " Avg. train loss/batch after 200 batches = -63.3931\n",
      " Avg. train loss/batch after 300 batches = -61.7173\n",
      " Avg. train loss/batch after 400 batches = -60.8375\n",
      "Train/Val Loss after epoch: -60.8375/-52.0403\n",
      "EPOCH 19:\n",
      " Avg. train loss/batch after 100 batches = -62.5364\n",
      " Avg. train loss/batch after 200 batches = -61.2566\n",
      " Avg. train loss/batch after 300 batches = -61.2627\n",
      " Avg. train loss/batch after 400 batches = -63.0829\n",
      "Train/Val Loss after epoch: -63.0829/-64.1854\n",
      "EPOCH 20:\n",
      " Avg. train loss/batch after 100 batches = -63.2508\n",
      " Avg. train loss/batch after 200 batches = -63.1788\n",
      " Avg. train loss/batch after 300 batches = -61.2805\n",
      " Avg. train loss/batch after 400 batches = -60.7262\n",
      "Train/Val Loss after epoch: -60.7262/-58.6517\n",
      "EPOCH 21:\n",
      " Avg. train loss/batch after 100 batches = -61.5214\n",
      " Avg. train loss/batch after 200 batches = -64.7031\n",
      " Avg. train loss/batch after 300 batches = -64.1478\n",
      " Avg. train loss/batch after 400 batches = -63.6746\n",
      "Train/Val Loss after epoch: -63.6746/-61.7674\n",
      "EPOCH 22:\n",
      " Avg. train loss/batch after 100 batches = -65.0608\n",
      " Avg. train loss/batch after 200 batches = -62.6022\n",
      " Avg. train loss/batch after 300 batches = -63.6919\n",
      " Avg. train loss/batch after 400 batches = -63.9927\n",
      "Train/Val Loss after epoch: -63.9927/-62.3406\n",
      "EPOCH 23:\n",
      " Avg. train loss/batch after 100 batches = -64.8059\n",
      " Avg. train loss/batch after 200 batches = -62.6975\n",
      " Avg. train loss/batch after 300 batches = -62.2532\n",
      " Avg. train loss/batch after 400 batches = -63.8445\n",
      "Train/Val Loss after epoch: -63.8445/-64.8844\n",
      "EPOCH 24:\n",
      " Avg. train loss/batch after 100 batches = -63.7755\n",
      " Avg. train loss/batch after 200 batches = -66.0739\n",
      " Avg. train loss/batch after 300 batches = -64.1574\n",
      " Avg. train loss/batch after 400 batches = -64.6542\n",
      "Train/Val Loss after epoch: -64.6542/-67.2933\n",
      "EPOCH 25:\n",
      " Avg. train loss/batch after 100 batches = -64.2624\n",
      " Avg. train loss/batch after 200 batches = -64.7297\n",
      " Avg. train loss/batch after 300 batches = -65.7635\n",
      " Avg. train loss/batch after 400 batches = -65.1608\n",
      "Train/Val Loss after epoch: -65.1608/-67.1883\n",
      "EPOCH 26:\n",
      " Avg. train loss/batch after 100 batches = -64.0671\n",
      " Avg. train loss/batch after 200 batches = -63.2176\n",
      " Avg. train loss/batch after 300 batches = -64.4650\n",
      " Avg. train loss/batch after 400 batches = -64.9556\n",
      "Train/Val Loss after epoch: -64.9556/-64.3940\n",
      "EPOCH 27:\n",
      " Avg. train loss/batch after 100 batches = -64.0350\n",
      " Avg. train loss/batch after 200 batches = -66.3244\n",
      " Avg. train loss/batch after 300 batches = -65.1592\n",
      " Avg. train loss/batch after 400 batches = -65.7946\n",
      "Train/Val Loss after epoch: -65.7946/-68.3237\n",
      "EPOCH 28:\n",
      " Avg. train loss/batch after 100 batches = -65.0674\n",
      " Avg. train loss/batch after 200 batches = -66.6881\n",
      " Avg. train loss/batch after 300 batches = -66.7365\n",
      " Avg. train loss/batch after 400 batches = -63.7379\n",
      "Train/Val Loss after epoch: -63.7379/-63.9696\n",
      "EPOCH 29:\n",
      " Avg. train loss/batch after 100 batches = -65.7353\n",
      " Avg. train loss/batch after 200 batches = -65.7868\n",
      " Avg. train loss/batch after 300 batches = -66.2845\n",
      " Avg. train loss/batch after 400 batches = -64.4057\n",
      "Train/Val Loss after epoch: -64.4057/-67.8519\n",
      "EPOCH 30:\n",
      " Avg. train loss/batch after 100 batches = -65.9631\n",
      " Avg. train loss/batch after 200 batches = -64.8222\n",
      " Avg. train loss/batch after 300 batches = -63.9485\n",
      " Avg. train loss/batch after 400 batches = -65.7399\n",
      "Train/Val Loss after epoch: -65.7399/-62.8687\n",
      "EPOCH 31:\n",
      " Avg. train loss/batch after 100 batches = -65.6076\n",
      " Avg. train loss/batch after 200 batches = -66.2229\n",
      " Avg. train loss/batch after 300 batches = -66.1786\n",
      " Avg. train loss/batch after 400 batches = -64.8654\n",
      "Train/Val Loss after epoch: -64.8654/-64.7671\n",
      "EPOCH 32:\n",
      " Avg. train loss/batch after 100 batches = -66.1218\n"
     ]
    },
    {
     "name": "stdout",
     "output_type": "stream",
     "text": [
      " Avg. train loss/batch after 200 batches = -64.8572\n",
      " Avg. train loss/batch after 300 batches = -66.2543\n",
      " Avg. train loss/batch after 400 batches = -65.5952\n",
      "Train/Val Loss after epoch: -65.5952/-61.1650\n",
      "EPOCH 33:\n",
      " Avg. train loss/batch after 100 batches = -63.9174\n",
      " Avg. train loss/batch after 200 batches = -65.8903\n",
      " Avg. train loss/batch after 300 batches = -66.2566\n",
      " Avg. train loss/batch after 400 batches = -66.0246\n",
      "Train/Val Loss after epoch: -66.0246/-59.3991\n",
      "EPOCH 34:\n",
      " Avg. train loss/batch after 100 batches = -67.3510\n",
      " Avg. train loss/batch after 200 batches = -65.5118\n",
      " Avg. train loss/batch after 300 batches = -65.9646\n",
      " Avg. train loss/batch after 400 batches = -66.5667\n",
      "Train/Val Loss after epoch: -66.5667/-67.6987\n",
      "EPOCH 35:\n",
      " Avg. train loss/batch after 100 batches = -66.9493\n",
      " Avg. train loss/batch after 200 batches = -64.8528\n",
      " Avg. train loss/batch after 300 batches = -66.1389\n",
      " Avg. train loss/batch after 400 batches = -67.3394\n",
      "Train/Val Loss after epoch: -67.3394/-67.4016\n",
      "EPOCH 36:\n",
      " Avg. train loss/batch after 100 batches = -65.6866\n",
      " Avg. train loss/batch after 200 batches = -66.1848\n",
      " Avg. train loss/batch after 300 batches = -66.2220\n",
      " Avg. train loss/batch after 400 batches = -66.6737\n",
      "Train/Val Loss after epoch: -66.6737/-69.4267\n",
      "EPOCH 37:\n",
      " Avg. train loss/batch after 100 batches = -66.5884\n",
      " Avg. train loss/batch after 200 batches = -66.0850\n",
      " Avg. train loss/batch after 300 batches = -65.9543\n",
      " Avg. train loss/batch after 400 batches = -65.4198\n",
      "Train/Val Loss after epoch: -65.4198/-66.8315\n",
      "EPOCH 38:\n",
      " Avg. train loss/batch after 100 batches = -66.2465\n",
      " Avg. train loss/batch after 200 batches = -68.6926\n",
      " Avg. train loss/batch after 300 batches = -65.4558\n",
      " Avg. train loss/batch after 400 batches = -66.9242\n",
      "Train/Val Loss after epoch: -66.9242/-62.9787\n",
      "EPOCH 39:\n",
      " Avg. train loss/batch after 100 batches = -67.1754\n",
      " Avg. train loss/batch after 200 batches = -66.4543\n",
      " Avg. train loss/batch after 300 batches = -67.1539\n",
      " Avg. train loss/batch after 400 batches = -66.3028\n",
      "Train/Val Loss after epoch: -66.3028/-67.7598\n",
      "EPOCH 40:\n",
      " Avg. train loss/batch after 100 batches = -67.1023\n",
      " Avg. train loss/batch after 200 batches = -66.2176\n",
      " Avg. train loss/batch after 300 batches = -67.0367\n",
      " Avg. train loss/batch after 400 batches = -67.8757\n",
      "Train/Val Loss after epoch: -67.8757/-66.2674\n",
      "EPOCH 41:\n",
      " Avg. train loss/batch after 100 batches = -68.7106\n",
      " Avg. train loss/batch after 200 batches = -67.0450\n",
      " Avg. train loss/batch after 300 batches = -66.0602\n",
      " Avg. train loss/batch after 400 batches = -68.0110\n",
      "Train/Val Loss after epoch: -68.0110/-67.7023\n",
      "EPOCH 42:\n",
      " Avg. train loss/batch after 100 batches = -67.0951\n",
      " Avg. train loss/batch after 200 batches = -69.4542\n",
      " Avg. train loss/batch after 300 batches = -67.2466\n",
      " Avg. train loss/batch after 400 batches = -66.1110\n",
      "Train/Val Loss after epoch: -66.1110/-65.5231\n",
      "EPOCH 43:\n",
      " Avg. train loss/batch after 100 batches = -68.0854\n",
      " Avg. train loss/batch after 200 batches = -67.3950\n",
      " Avg. train loss/batch after 300 batches = -67.8528\n",
      " Avg. train loss/batch after 400 batches = -67.7684\n",
      "Train/Val Loss after epoch: -67.7684/-67.4178\n",
      "EPOCH 44:\n",
      " Avg. train loss/batch after 100 batches = -68.1734\n",
      " Avg. train loss/batch after 200 batches = -67.9916\n",
      " Avg. train loss/batch after 300 batches = -67.3857\n",
      " Avg. train loss/batch after 400 batches = -67.9811\n",
      "Train/Val Loss after epoch: -67.9811/-66.7709\n",
      "EPOCH 45:\n",
      " Avg. train loss/batch after 100 batches = -67.5861\n",
      " Avg. train loss/batch after 200 batches = -68.3326\n",
      " Avg. train loss/batch after 300 batches = -67.0093\n",
      " Avg. train loss/batch after 400 batches = -68.5125\n",
      "Train/Val Loss after epoch: -68.5125/-69.8427\n",
      "EPOCH 46:\n",
      " Avg. train loss/batch after 100 batches = -67.7774\n",
      " Avg. train loss/batch after 200 batches = -68.0824\n",
      " Avg. train loss/batch after 300 batches = -69.7217\n",
      " Avg. train loss/batch after 400 batches = -68.8430\n",
      "Train/Val Loss after epoch: -68.8430/-68.0379\n",
      "EPOCH 47:\n",
      " Avg. train loss/batch after 100 batches = -67.1407\n",
      " Avg. train loss/batch after 200 batches = -68.3204\n",
      " Avg. train loss/batch after 300 batches = -69.2728\n",
      " Avg. train loss/batch after 400 batches = -68.6617\n",
      "Train/Val Loss after epoch: -68.6617/-64.3393\n",
      "EPOCH 48:\n",
      " Avg. train loss/batch after 100 batches = -66.8196\n",
      " Avg. train loss/batch after 200 batches = -68.5421\n",
      " Avg. train loss/batch after 300 batches = -67.5792\n",
      " Avg. train loss/batch after 400 batches = -66.5604\n",
      "Train/Val Loss after epoch: -66.5604/-67.0441\n",
      "EPOCH 49:\n",
      " Avg. train loss/batch after 100 batches = -68.8954\n",
      " Avg. train loss/batch after 200 batches = -69.4597\n",
      " Avg. train loss/batch after 300 batches = -66.7573\n",
      " Avg. train loss/batch after 400 batches = -68.6290\n",
      "Train/Val Loss after epoch: -68.6290/-66.7396\n",
      "EPOCH 50:\n",
      " Avg. train loss/batch after 100 batches = -67.8194\n",
      " Avg. train loss/batch after 200 batches = -67.9900\n",
      " Avg. train loss/batch after 300 batches = -67.3515\n",
      " Avg. train loss/batch after 400 batches = -67.1258\n",
      "Train/Val Loss after epoch: -67.1258/-64.3075\n",
      "EPOCH 51:\n",
      " Avg. train loss/batch after 100 batches = -67.5020\n",
      " Avg. train loss/batch after 200 batches = -67.8977\n",
      " Avg. train loss/batch after 300 batches = -68.1452\n",
      " Avg. train loss/batch after 400 batches = -68.6583\n",
      "Train/Val Loss after epoch: -68.6583/-68.3171\n",
      "EPOCH 52:\n",
      " Avg. train loss/batch after 100 batches = -68.3990\n",
      " Avg. train loss/batch after 200 batches = -67.7859\n",
      " Avg. train loss/batch after 300 batches = -68.8607\n",
      " Avg. train loss/batch after 400 batches = -68.7185\n",
      "Train/Val Loss after epoch: -68.7185/-64.4251\n",
      "EPOCH 53:\n",
      " Avg. train loss/batch after 100 batches = -68.0694\n",
      " Avg. train loss/batch after 200 batches = -69.8130\n",
      " Avg. train loss/batch after 300 batches = -68.0263\n",
      " Avg. train loss/batch after 400 batches = -67.2515\n",
      "Train/Val Loss after epoch: -67.2515/-69.0320\n",
      "EPOCH 54:\n",
      " Avg. train loss/batch after 100 batches = -68.4220\n",
      " Avg. train loss/batch after 200 batches = -68.2524\n",
      " Avg. train loss/batch after 300 batches = -68.2667\n",
      " Avg. train loss/batch after 400 batches = -68.0899\n",
      "Train/Val Loss after epoch: -68.0899/-67.8998\n",
      "EPOCH 55:\n",
      " Avg. train loss/batch after 100 batches = -68.8239\n",
      " Avg. train loss/batch after 200 batches = -69.1367\n",
      " Avg. train loss/batch after 300 batches = -68.8903\n",
      " Avg. train loss/batch after 400 batches = -68.9066\n",
      "Train/Val Loss after epoch: -68.9066/-67.5346\n",
      "EPOCH 56:\n",
      " Avg. train loss/batch after 100 batches = -68.6929\n",
      " Avg. train loss/batch after 200 batches = -70.2948\n",
      " Avg. train loss/batch after 300 batches = -69.1278\n",
      " Avg. train loss/batch after 400 batches = -69.8410\n",
      "Train/Val Loss after epoch: -69.8410/-70.4124\n",
      "EPOCH 57:\n",
      " Avg. train loss/batch after 100 batches = -68.9813\n",
      " Avg. train loss/batch after 200 batches = -68.0485\n",
      " Avg. train loss/batch after 300 batches = -68.7731\n",
      " Avg. train loss/batch after 400 batches = -69.0270\n",
      "Train/Val Loss after epoch: -69.0270/-68.2078\n",
      "EPOCH 58:\n",
      " Avg. train loss/batch after 100 batches = -68.5358\n",
      " Avg. train loss/batch after 200 batches = -68.6548\n",
      " Avg. train loss/batch after 300 batches = -68.5171\n",
      " Avg. train loss/batch after 400 batches = -68.3473\n",
      "Train/Val Loss after epoch: -68.3473/-66.2571\n",
      "EPOCH 59:\n",
      " Avg. train loss/batch after 100 batches = -68.1558\n",
      " Avg. train loss/batch after 200 batches = -69.9518\n",
      " Avg. train loss/batch after 300 batches = -68.5889\n",
      " Avg. train loss/batch after 400 batches = -68.9193\n",
      "Train/Val Loss after epoch: -68.9193/-63.8323\n",
      "EPOCH 60:\n",
      " Avg. train loss/batch after 100 batches = -68.4305\n",
      " Avg. train loss/batch after 200 batches = -67.3755\n",
      " Avg. train loss/batch after 300 batches = -69.6179\n",
      " Avg. train loss/batch after 400 batches = -69.0843\n",
      "Train/Val Loss after epoch: -69.0843/-66.8723\n",
      "EPOCH 61:\n",
      " Avg. train loss/batch after 100 batches = -68.5825\n",
      " Avg. train loss/batch after 200 batches = -69.1985\n",
      " Avg. train loss/batch after 300 batches = -69.7026\n",
      " Avg. train loss/batch after 400 batches = -67.4238\n",
      "Train/Val Loss after epoch: -67.4238/-67.1371\n",
      "EPOCH 62:\n",
      " Avg. train loss/batch after 100 batches = -69.3410\n",
      " Avg. train loss/batch after 200 batches = -69.8750\n",
      " Avg. train loss/batch after 300 batches = -69.2335\n",
      " Avg. train loss/batch after 400 batches = -69.0020\n",
      "Train/Val Loss after epoch: -69.0020/-64.7304\n",
      "EPOCH 63:\n",
      " Avg. train loss/batch after 100 batches = -69.2532\n",
      " Avg. train loss/batch after 200 batches = -69.5506\n"
     ]
    },
    {
     "name": "stdout",
     "output_type": "stream",
     "text": [
      " Avg. train loss/batch after 300 batches = -70.0392\n",
      " Avg. train loss/batch after 400 batches = -69.0871\n",
      "Train/Val Loss after epoch: -69.0871/-67.1921\n",
      "EPOCH 64:\n",
      " Avg. train loss/batch after 100 batches = -70.0855\n",
      " Avg. train loss/batch after 200 batches = -69.3822\n",
      " Avg. train loss/batch after 300 batches = -69.5697\n",
      " Avg. train loss/batch after 400 batches = -68.8129\n",
      "Train/Val Loss after epoch: -68.8129/-64.7843\n",
      "EPOCH 65:\n",
      " Avg. train loss/batch after 100 batches = -70.1681\n",
      " Avg. train loss/batch after 200 batches = -70.7973\n",
      " Avg. train loss/batch after 300 batches = -69.7165\n",
      " Avg. train loss/batch after 400 batches = -69.5866\n",
      "Train/Val Loss after epoch: -69.5866/-62.8968\n",
      "EPOCH 66:\n",
      " Avg. train loss/batch after 100 batches = -69.4000\n",
      " Avg. train loss/batch after 200 batches = -70.7932\n",
      " Avg. train loss/batch after 300 batches = -68.0046\n",
      " Avg. train loss/batch after 400 batches = -69.4856\n",
      "Train/Val Loss after epoch: -69.4856/-67.8936\n",
      "EPOCH 67:\n",
      " Avg. train loss/batch after 100 batches = -70.9789\n",
      " Avg. train loss/batch after 200 batches = -69.8227\n",
      " Avg. train loss/batch after 300 batches = -70.9248\n",
      " Avg. train loss/batch after 400 batches = -69.8047\n",
      "Train/Val Loss after epoch: -69.8047/-67.1328\n",
      "EPOCH 68:\n",
      " Avg. train loss/batch after 100 batches = -69.3982\n",
      " Avg. train loss/batch after 200 batches = -69.2794\n",
      " Avg. train loss/batch after 300 batches = -69.7857\n",
      " Avg. train loss/batch after 400 batches = -70.2374\n",
      "Train/Val Loss after epoch: -70.2374/-68.2377\n",
      "EPOCH 69:\n",
      " Avg. train loss/batch after 100 batches = -69.7887\n",
      " Avg. train loss/batch after 200 batches = -68.9260\n",
      " Avg. train loss/batch after 300 batches = -70.5865\n",
      " Avg. train loss/batch after 400 batches = -69.3974\n",
      "Train/Val Loss after epoch: -69.3974/-69.1055\n",
      "EPOCH 70:\n",
      " Avg. train loss/batch after 100 batches = -70.9523\n",
      " Avg. train loss/batch after 200 batches = -68.3918\n",
      " Avg. train loss/batch after 300 batches = -69.6163\n",
      " Avg. train loss/batch after 400 batches = -69.5835\n",
      "Train/Val Loss after epoch: -69.5835/-64.5591\n",
      "EPOCH 71:\n",
      " Avg. train loss/batch after 100 batches = -70.6289\n",
      " Avg. train loss/batch after 200 batches = -69.1765\n",
      " Avg. train loss/batch after 300 batches = -69.6805\n"
     ]
    },
    {
     "ename": "KeyboardInterrupt",
     "evalue": "",
     "output_type": "error",
     "traceback": [
      "\u001b[0;31m---------------------------------------------------------------------------\u001b[0m",
      "\u001b[0;31mKeyboardInterrupt\u001b[0m                         Traceback (most recent call last)",
      "Cell \u001b[0;32mIn[31], line 7\u001b[0m\n\u001b[1;32m      5\u001b[0m \u001b[38;5;66;03m# Gradient tracking\u001b[39;00m\n\u001b[1;32m      6\u001b[0m flow\u001b[38;5;241m.\u001b[39mtrain(\u001b[38;5;28;01mTrue\u001b[39;00m)\n\u001b[0;32m----> 7\u001b[0m avg_train_loss \u001b[38;5;241m=\u001b[39m \u001b[43mtrain_one_epoch\u001b[49m\u001b[43m(\u001b[49m\u001b[43mepoch_number\u001b[49m\u001b[43m,\u001b[49m\u001b[43m \u001b[49m\u001b[43mwriter\u001b[49m\u001b[43m)\u001b[49m\n\u001b[1;32m      9\u001b[0m \u001b[38;5;66;03m# no gradient tracking, for validation\u001b[39;00m\n\u001b[1;32m     10\u001b[0m flow\u001b[38;5;241m.\u001b[39mtrain(\u001b[38;5;28;01mFalse\u001b[39;00m)\n",
      "Cell \u001b[0;32mIn[28], line 10\u001b[0m, in \u001b[0;36mtrain_one_epoch\u001b[0;34m(epoch_index, tb_writer)\u001b[0m\n\u001b[1;32m      8\u001b[0m optimizer\u001b[38;5;241m.\u001b[39mzero_grad()\n\u001b[1;32m      9\u001b[0m loss \u001b[38;5;241m=\u001b[39m \u001b[38;5;241m-\u001b[39mflow\u001b[38;5;241m.\u001b[39mlog_prob(theta, context\u001b[38;5;241m=\u001b[39mdata)\u001b[38;5;241m.\u001b[39msum()\n\u001b[0;32m---> 10\u001b[0m \u001b[43mloss\u001b[49m\u001b[38;5;241;43m.\u001b[39;49m\u001b[43mbackward\u001b[49m\u001b[43m(\u001b[49m\u001b[43m)\u001b[49m\n\u001b[1;32m     11\u001b[0m optimizer\u001b[38;5;241m.\u001b[39mstep()\n\u001b[1;32m     12\u001b[0m \u001b[38;5;66;03m# Gather data and report\u001b[39;00m\n",
      "File \u001b[0;32m~/miniconda3/envs/mlpe-base/lib/python3.9/site-packages/torch/_tensor.py:488\u001b[0m, in \u001b[0;36mTensor.backward\u001b[0;34m(self, gradient, retain_graph, create_graph, inputs)\u001b[0m\n\u001b[1;32m    478\u001b[0m \u001b[38;5;28;01mif\u001b[39;00m has_torch_function_unary(\u001b[38;5;28mself\u001b[39m):\n\u001b[1;32m    479\u001b[0m     \u001b[38;5;28;01mreturn\u001b[39;00m handle_torch_function(\n\u001b[1;32m    480\u001b[0m         Tensor\u001b[38;5;241m.\u001b[39mbackward,\n\u001b[1;32m    481\u001b[0m         (\u001b[38;5;28mself\u001b[39m,),\n\u001b[0;32m   (...)\u001b[0m\n\u001b[1;32m    486\u001b[0m         inputs\u001b[38;5;241m=\u001b[39minputs,\n\u001b[1;32m    487\u001b[0m     )\n\u001b[0;32m--> 488\u001b[0m \u001b[43mtorch\u001b[49m\u001b[38;5;241;43m.\u001b[39;49m\u001b[43mautograd\u001b[49m\u001b[38;5;241;43m.\u001b[39;49m\u001b[43mbackward\u001b[49m\u001b[43m(\u001b[49m\n\u001b[1;32m    489\u001b[0m \u001b[43m    \u001b[49m\u001b[38;5;28;43mself\u001b[39;49m\u001b[43m,\u001b[49m\u001b[43m \u001b[49m\u001b[43mgradient\u001b[49m\u001b[43m,\u001b[49m\u001b[43m \u001b[49m\u001b[43mretain_graph\u001b[49m\u001b[43m,\u001b[49m\u001b[43m \u001b[49m\u001b[43mcreate_graph\u001b[49m\u001b[43m,\u001b[49m\u001b[43m \u001b[49m\u001b[43minputs\u001b[49m\u001b[38;5;241;43m=\u001b[39;49m\u001b[43minputs\u001b[49m\n\u001b[1;32m    490\u001b[0m \u001b[43m\u001b[49m\u001b[43m)\u001b[49m\n",
      "File \u001b[0;32m~/miniconda3/envs/mlpe-base/lib/python3.9/site-packages/torch/autograd/__init__.py:197\u001b[0m, in \u001b[0;36mbackward\u001b[0;34m(tensors, grad_tensors, retain_graph, create_graph, grad_variables, inputs)\u001b[0m\n\u001b[1;32m    192\u001b[0m     retain_graph \u001b[38;5;241m=\u001b[39m create_graph\n\u001b[1;32m    194\u001b[0m \u001b[38;5;66;03m# The reason we repeat same the comment below is that\u001b[39;00m\n\u001b[1;32m    195\u001b[0m \u001b[38;5;66;03m# some Python versions print out the first line of a multi-line function\u001b[39;00m\n\u001b[1;32m    196\u001b[0m \u001b[38;5;66;03m# calls in the traceback and some print out the last line\u001b[39;00m\n\u001b[0;32m--> 197\u001b[0m \u001b[43mVariable\u001b[49m\u001b[38;5;241;43m.\u001b[39;49m\u001b[43m_execution_engine\u001b[49m\u001b[38;5;241;43m.\u001b[39;49m\u001b[43mrun_backward\u001b[49m\u001b[43m(\u001b[49m\u001b[43m  \u001b[49m\u001b[38;5;66;43;03m# Calls into the C++ engine to run the backward pass\u001b[39;49;00m\n\u001b[1;32m    198\u001b[0m \u001b[43m    \u001b[49m\u001b[43mtensors\u001b[49m\u001b[43m,\u001b[49m\u001b[43m \u001b[49m\u001b[43mgrad_tensors_\u001b[49m\u001b[43m,\u001b[49m\u001b[43m \u001b[49m\u001b[43mretain_graph\u001b[49m\u001b[43m,\u001b[49m\u001b[43m \u001b[49m\u001b[43mcreate_graph\u001b[49m\u001b[43m,\u001b[49m\u001b[43m \u001b[49m\u001b[43minputs\u001b[49m\u001b[43m,\u001b[49m\n\u001b[1;32m    199\u001b[0m \u001b[43m    \u001b[49m\u001b[43mallow_unreachable\u001b[49m\u001b[38;5;241;43m=\u001b[39;49m\u001b[38;5;28;43;01mTrue\u001b[39;49;00m\u001b[43m,\u001b[49m\u001b[43m \u001b[49m\u001b[43maccumulate_grad\u001b[49m\u001b[38;5;241;43m=\u001b[39;49m\u001b[38;5;28;43;01mTrue\u001b[39;49;00m\u001b[43m)\u001b[49m\n",
      "\u001b[0;31mKeyboardInterrupt\u001b[0m: "
     ]
    }
   ],
   "source": [
    "EPOCHS = 100\n",
    "\n",
    "for epoch in range(EPOCHS):\n",
    "    print('EPOCH {}:'.format(epoch_number + 1))\n",
    "    # Gradient tracking\n",
    "    flow.train(True)\n",
    "    avg_train_loss = train_one_epoch(epoch_number, writer)\n",
    "    \n",
    "    # no gradient tracking, for validation\n",
    "    flow.train(False)\n",
    "    avg_val_loss = val_one_epoch(epoch_number, writer)\n",
    "    \n",
    "    print(f\"Train/Val Loss after epoch: {avg_train_loss:.4f}/{avg_val_loss:.4f}\")\n",
    "    epoch_number += 1\n",
    "    scheduler.step()"
   ]
  },
  {
   "cell_type": "markdown",
   "metadata": {},
   "source": [
    "# Check on test data"
   ]
  },
  {
   "cell_type": "code",
   "execution_count": 32,
   "metadata": {},
   "outputs": [],
   "source": [
    "import pandas as pd\n",
    "\n",
    "def cast_as_bilby_result(samples, truth):\n",
    "    injections = dict.fromkeys(injection_parameters)\n",
    "    injections['m'] = float(truth.numpy()[0])\n",
    "    injections['c'] = float(truth.numpy()[1])\n",
    "\n",
    "    posterior = dict.fromkeys(injection_parameters)\n",
    "    samples_numpy = samples.numpy()\n",
    "    posterior['m'] = samples_numpy.T[0].flatten()\n",
    "    posterior['c'] = samples_numpy.T[1].flatten()\n",
    "    posterior = pd.DataFrame(posterior)\n",
    "    \n",
    "    return bilby.result.Result(\n",
    "        label=\"test_data\",\n",
    "        injection_parameters=injections,\n",
    "        posterior=posterior,\n",
    "        search_parameter_keys=list(injections.keys()),\n",
    "        priors=priors\n",
    "    )"
   ]
  },
  {
   "cell_type": "code",
   "execution_count": 33,
   "metadata": {
    "scrolled": false
   },
   "outputs": [
    {
     "ename": "KeyboardInterrupt",
     "evalue": "",
     "output_type": "error",
     "traceback": [
      "\u001b[0;31m---------------------------------------------------------------------------\u001b[0m",
      "\u001b[0;31mKeyboardInterrupt\u001b[0m                         Traceback (most recent call last)",
      "Cell \u001b[0;32mIn[33], line 5\u001b[0m\n\u001b[1;32m      3\u001b[0m \u001b[38;5;28;01mwith\u001b[39;00m torch\u001b[38;5;241m.\u001b[39mno_grad():\n\u001b[1;32m      4\u001b[0m     samples \u001b[38;5;241m=\u001b[39m flow\u001b[38;5;241m.\u001b[39msample(\u001b[38;5;241m5000\u001b[39m, context\u001b[38;5;241m=\u001b[39mdata_test\u001b[38;5;241m.\u001b[39mreshape((\u001b[38;5;241m1\u001b[39m, \u001b[38;5;241m100\u001b[39m)))\n\u001b[0;32m----> 5\u001b[0m \u001b[43mlive_plot_samples\u001b[49m\u001b[43m(\u001b[49m\u001b[43msamples\u001b[49m\u001b[43m[\u001b[49m\u001b[38;5;241;43m0\u001b[39;49m\u001b[43m]\u001b[49m\u001b[43m,\u001b[49m\u001b[43m \u001b[49m\u001b[43mtheta_test\u001b[49m\u001b[43m)\u001b[49m\n\u001b[1;32m      6\u001b[0m plt\u001b[38;5;241m.\u001b[39mshow()\n",
      "Cell \u001b[0;32mIn[11], line 6\u001b[0m, in \u001b[0;36mlive_plot_samples\u001b[0;34m(samples, truth)\u001b[0m\n\u001b[1;32m      4\u001b[0m \u001b[38;5;28;01mdef\u001b[39;00m \u001b[38;5;21mlive_plot_samples\u001b[39m(samples, truth):\n\u001b[1;32m      5\u001b[0m     clear_output(wait\u001b[38;5;241m=\u001b[39m\u001b[38;5;28;01mTrue\u001b[39;00m)\n\u001b[0;32m----> 6\u001b[0m     \u001b[43msleep\u001b[49m\u001b[43m(\u001b[49m\u001b[38;5;241;43m1\u001b[39;49m\u001b[43m)\u001b[49m\n\u001b[1;32m      7\u001b[0m     figure \u001b[38;5;241m=\u001b[39m corner\u001b[38;5;241m.\u001b[39mcorner(\n\u001b[1;32m      8\u001b[0m         samples\u001b[38;5;241m.\u001b[39mnumpy(), quantiles\u001b[38;5;241m=\u001b[39m[\u001b[38;5;241m0.16\u001b[39m, \u001b[38;5;241m0.5\u001b[39m, \u001b[38;5;241m0.84\u001b[39m],\n\u001b[1;32m      9\u001b[0m         show_titles\u001b[38;5;241m=\u001b[39m\u001b[38;5;28;01mTrue\u001b[39;00m, labels\u001b[38;5;241m=\u001b[39m[\u001b[38;5;124m\"\u001b[39m\u001b[38;5;124mm\u001b[39m\u001b[38;5;124m\"\u001b[39m, \u001b[38;5;124m\"\u001b[39m\u001b[38;5;124mc\u001b[39m\u001b[38;5;124m\"\u001b[39m],\n\u001b[1;32m     10\u001b[0m         truth\u001b[38;5;241m=\u001b[39mtruth\n\u001b[1;32m     11\u001b[0m     )\n\u001b[1;32m     13\u001b[0m     corner\u001b[38;5;241m.\u001b[39moverplot_lines(figure, truth, color\u001b[38;5;241m=\u001b[39m\u001b[38;5;124m\"\u001b[39m\u001b[38;5;124mC1\u001b[39m\u001b[38;5;124m\"\u001b[39m)\n",
      "\u001b[0;31mKeyboardInterrupt\u001b[0m: "
     ]
    }
   ],
   "source": [
    "for idx, (theta_test, data_test) in enumerate(test_data):\n",
    "    if idx == 20: break \n",
    "    with torch.no_grad():\n",
    "        samples = flow.sample(5000, context=data_test.reshape((1, 100)))\n",
    "    live_plot_samples(samples[0], theta_test)\n",
    "    plt.show()"
   ]
  },
  {
   "cell_type": "code",
   "execution_count": null,
   "metadata": {},
   "outputs": [],
   "source": [
    "samples.shape"
   ]
  },
  {
   "cell_type": "markdown",
   "metadata": {},
   "source": [
    "# PP plot"
   ]
  },
  {
   "cell_type": "code",
   "execution_count": 34,
   "metadata": {},
   "outputs": [],
   "source": [
    "results = []\n",
    "for idx, (theta_test, data_test) in enumerate(test_data):\n",
    "    with torch.no_grad():\n",
    "        samples = flow.sample(5000, context=data_test.reshape((1, 100)))\n",
    "    results.append(\n",
    "        cast_as_bilby_result(samples[0], theta_test))"
   ]
  },
  {
   "cell_type": "code",
   "execution_count": 35,
   "metadata": {
    "scrolled": false
   },
   "outputs": [
    {
     "name": "stderr",
     "output_type": "stream",
     "text": [
      "15:53 bilby INFO    : Key: KS-test p-value\n",
      "15:53 bilby INFO    : m: 2.2945723727888708e-17\n",
      "15:53 bilby INFO    : c: 8.576875762113707e-06\n",
      "15:53 bilby INFO    : Combined p-value: 1.003296634731765e-20\n"
     ]
    },
    {
     "data": {
      "image/png": "[encoded data removed]",
      "text/plain": [
       "<Figure size 640x480 with 1 Axes>"
      ]
     },
     "metadata": {},
     "output_type": "display_data"
    }
   ],
   "source": [
    "import warnings\n",
    "with warnings.catch_warnings():\n",
    "    warnings.simplefilter('ignore')\n",
    "    bilby.result.make_pp_plot(results, save=False, keys=['m', 'c'])"
   ]
  }
 ],
 "metadata": {
  "kernelspec": {
   "display_name": "Python 3 (ipykernel)",
   "language": "python",
   "name": "python3"
  },
  "language_info": {
   "codemirror_mode": {
    "name": "ipython",
    "version": 3
   },
   "file_extension": ".py",
   "mimetype": "text/x-python",
   "name": "python",
   "nbconvert_exporter": "python",
   "pygments_lexer": "ipython3",
   "version": "3.9.16"
  }
 },
 "nbformat": 4,
 "nbformat_minor": 2
}
